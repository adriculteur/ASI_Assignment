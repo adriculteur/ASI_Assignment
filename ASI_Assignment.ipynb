{
 "cells": [
  {
   "cell_type": "markdown",
   "metadata": {},
   "source": [
    "# Algorithmic Machine Learning assignment\n",
    "due date: 27.05.2016 <br>\n",
    "student: Adrian Simon Bauer"
   ]
  },
  {
   "cell_type": "markdown",
   "metadata": {},
   "source": [
    "## Excercise 1:"
   ]
  },
  {
   "cell_type": "code",
   "execution_count": 1,
   "metadata": {
    "collapsed": false
   },
   "outputs": [],
   "source": [
    "import numpy as np\n",
    "import pandas as pd\n",
    "\n",
    "# read the datafiles\n",
    "redWine = pd.read_csv('data/winequality-red.csv', sep=';', header=0)\n",
    "whiteWine = pd.read_csv('data/winequality-white.csv', sep=';', header=0)\n",
    "\n",
    "## TODO: check for NA-data"
   ]
  },
  {
   "cell_type": "code",
   "execution_count": 2,
   "metadata": {
    "collapsed": false
   },
   "outputs": [
    {
     "data": {
      "text/html": [
       "<div>\n",
       "<table border=\"1\" class=\"dataframe\">\n",
       "  <thead>\n",
       "    <tr style=\"text-align: right;\">\n",
       "      <th></th>\n",
       "      <th>fixed acidity</th>\n",
       "      <th>volatile acidity</th>\n",
       "      <th>citric acid</th>\n",
       "      <th>residual sugar</th>\n",
       "      <th>chlorides</th>\n",
       "      <th>free sulfur dioxide</th>\n",
       "      <th>total sulfur dioxide</th>\n",
       "      <th>density</th>\n",
       "      <th>pH</th>\n",
       "      <th>sulphates</th>\n",
       "      <th>alcohol</th>\n",
       "      <th>quality</th>\n",
       "    </tr>\n",
       "  </thead>\n",
       "  <tbody>\n",
       "    <tr>\n",
       "      <th>0</th>\n",
       "      <td>7.4</td>\n",
       "      <td>0.70</td>\n",
       "      <td>0.00</td>\n",
       "      <td>1.9</td>\n",
       "      <td>0.076</td>\n",
       "      <td>11</td>\n",
       "      <td>34</td>\n",
       "      <td>0.9978</td>\n",
       "      <td>3.51</td>\n",
       "      <td>0.56</td>\n",
       "      <td>9.4</td>\n",
       "      <td>5</td>\n",
       "    </tr>\n",
       "    <tr>\n",
       "      <th>1</th>\n",
       "      <td>7.8</td>\n",
       "      <td>0.88</td>\n",
       "      <td>0.00</td>\n",
       "      <td>2.6</td>\n",
       "      <td>0.098</td>\n",
       "      <td>25</td>\n",
       "      <td>67</td>\n",
       "      <td>0.9968</td>\n",
       "      <td>3.20</td>\n",
       "      <td>0.68</td>\n",
       "      <td>9.8</td>\n",
       "      <td>5</td>\n",
       "    </tr>\n",
       "    <tr>\n",
       "      <th>2</th>\n",
       "      <td>7.8</td>\n",
       "      <td>0.76</td>\n",
       "      <td>0.04</td>\n",
       "      <td>2.3</td>\n",
       "      <td>0.092</td>\n",
       "      <td>15</td>\n",
       "      <td>54</td>\n",
       "      <td>0.9970</td>\n",
       "      <td>3.26</td>\n",
       "      <td>0.65</td>\n",
       "      <td>9.8</td>\n",
       "      <td>5</td>\n",
       "    </tr>\n",
       "    <tr>\n",
       "      <th>3</th>\n",
       "      <td>11.2</td>\n",
       "      <td>0.28</td>\n",
       "      <td>0.56</td>\n",
       "      <td>1.9</td>\n",
       "      <td>0.075</td>\n",
       "      <td>17</td>\n",
       "      <td>60</td>\n",
       "      <td>0.9980</td>\n",
       "      <td>3.16</td>\n",
       "      <td>0.58</td>\n",
       "      <td>9.8</td>\n",
       "      <td>6</td>\n",
       "    </tr>\n",
       "    <tr>\n",
       "      <th>4</th>\n",
       "      <td>7.4</td>\n",
       "      <td>0.70</td>\n",
       "      <td>0.00</td>\n",
       "      <td>1.9</td>\n",
       "      <td>0.076</td>\n",
       "      <td>11</td>\n",
       "      <td>34</td>\n",
       "      <td>0.9978</td>\n",
       "      <td>3.51</td>\n",
       "      <td>0.56</td>\n",
       "      <td>9.4</td>\n",
       "      <td>5</td>\n",
       "    </tr>\n",
       "  </tbody>\n",
       "</table>\n",
       "</div>"
      ],
      "text/plain": [
       "   fixed acidity  volatile acidity  citric acid  residual sugar  chlorides  \\\n",
       "0            7.4              0.70         0.00             1.9      0.076   \n",
       "1            7.8              0.88         0.00             2.6      0.098   \n",
       "2            7.8              0.76         0.04             2.3      0.092   \n",
       "3           11.2              0.28         0.56             1.9      0.075   \n",
       "4            7.4              0.70         0.00             1.9      0.076   \n",
       "\n",
       "   free sulfur dioxide  total sulfur dioxide  density    pH  sulphates  \\\n",
       "0                   11                    34   0.9978  3.51       0.56   \n",
       "1                   25                    67   0.9968  3.20       0.68   \n",
       "2                   15                    54   0.9970  3.26       0.65   \n",
       "3                   17                    60   0.9980  3.16       0.58   \n",
       "4                   11                    34   0.9978  3.51       0.56   \n",
       "\n",
       "   alcohol  quality  \n",
       "0      9.4        5  \n",
       "1      9.8        5  \n",
       "2      9.8        5  \n",
       "3      9.8        6  \n",
       "4      9.4        5  "
      ]
     },
     "execution_count": 2,
     "metadata": {},
     "output_type": "execute_result"
    }
   ],
   "source": [
    "redWine.head()"
   ]
  },
  {
   "cell_type": "code",
   "execution_count": 3,
   "metadata": {
    "collapsed": false
   },
   "outputs": [
    {
     "data": {
      "text/html": [
       "<div>\n",
       "<table border=\"1\" class=\"dataframe\">\n",
       "  <thead>\n",
       "    <tr style=\"text-align: right;\">\n",
       "      <th></th>\n",
       "      <th>fixed acidity</th>\n",
       "      <th>volatile acidity</th>\n",
       "      <th>citric acid</th>\n",
       "      <th>residual sugar</th>\n",
       "      <th>chlorides</th>\n",
       "      <th>free sulfur dioxide</th>\n",
       "      <th>total sulfur dioxide</th>\n",
       "      <th>density</th>\n",
       "      <th>pH</th>\n",
       "      <th>sulphates</th>\n",
       "      <th>alcohol</th>\n",
       "      <th>quality</th>\n",
       "    </tr>\n",
       "  </thead>\n",
       "  <tbody>\n",
       "    <tr>\n",
       "      <th>0</th>\n",
       "      <td>7.0</td>\n",
       "      <td>0.27</td>\n",
       "      <td>0.36</td>\n",
       "      <td>20.7</td>\n",
       "      <td>0.045</td>\n",
       "      <td>45</td>\n",
       "      <td>170</td>\n",
       "      <td>1.0010</td>\n",
       "      <td>3.00</td>\n",
       "      <td>0.45</td>\n",
       "      <td>8.8</td>\n",
       "      <td>6</td>\n",
       "    </tr>\n",
       "    <tr>\n",
       "      <th>1</th>\n",
       "      <td>6.3</td>\n",
       "      <td>0.30</td>\n",
       "      <td>0.34</td>\n",
       "      <td>1.6</td>\n",
       "      <td>0.049</td>\n",
       "      <td>14</td>\n",
       "      <td>132</td>\n",
       "      <td>0.9940</td>\n",
       "      <td>3.30</td>\n",
       "      <td>0.49</td>\n",
       "      <td>9.5</td>\n",
       "      <td>6</td>\n",
       "    </tr>\n",
       "    <tr>\n",
       "      <th>2</th>\n",
       "      <td>8.1</td>\n",
       "      <td>0.28</td>\n",
       "      <td>0.40</td>\n",
       "      <td>6.9</td>\n",
       "      <td>0.050</td>\n",
       "      <td>30</td>\n",
       "      <td>97</td>\n",
       "      <td>0.9951</td>\n",
       "      <td>3.26</td>\n",
       "      <td>0.44</td>\n",
       "      <td>10.1</td>\n",
       "      <td>6</td>\n",
       "    </tr>\n",
       "    <tr>\n",
       "      <th>3</th>\n",
       "      <td>7.2</td>\n",
       "      <td>0.23</td>\n",
       "      <td>0.32</td>\n",
       "      <td>8.5</td>\n",
       "      <td>0.058</td>\n",
       "      <td>47</td>\n",
       "      <td>186</td>\n",
       "      <td>0.9956</td>\n",
       "      <td>3.19</td>\n",
       "      <td>0.40</td>\n",
       "      <td>9.9</td>\n",
       "      <td>6</td>\n",
       "    </tr>\n",
       "    <tr>\n",
       "      <th>4</th>\n",
       "      <td>7.2</td>\n",
       "      <td>0.23</td>\n",
       "      <td>0.32</td>\n",
       "      <td>8.5</td>\n",
       "      <td>0.058</td>\n",
       "      <td>47</td>\n",
       "      <td>186</td>\n",
       "      <td>0.9956</td>\n",
       "      <td>3.19</td>\n",
       "      <td>0.40</td>\n",
       "      <td>9.9</td>\n",
       "      <td>6</td>\n",
       "    </tr>\n",
       "  </tbody>\n",
       "</table>\n",
       "</div>"
      ],
      "text/plain": [
       "   fixed acidity  volatile acidity  citric acid  residual sugar  chlorides  \\\n",
       "0            7.0              0.27         0.36            20.7      0.045   \n",
       "1            6.3              0.30         0.34             1.6      0.049   \n",
       "2            8.1              0.28         0.40             6.9      0.050   \n",
       "3            7.2              0.23         0.32             8.5      0.058   \n",
       "4            7.2              0.23         0.32             8.5      0.058   \n",
       "\n",
       "   free sulfur dioxide  total sulfur dioxide  density    pH  sulphates  \\\n",
       "0                   45                   170   1.0010  3.00       0.45   \n",
       "1                   14                   132   0.9940  3.30       0.49   \n",
       "2                   30                    97   0.9951  3.26       0.44   \n",
       "3                   47                   186   0.9956  3.19       0.40   \n",
       "4                   47                   186   0.9956  3.19       0.40   \n",
       "\n",
       "   alcohol  quality  \n",
       "0      8.8        6  \n",
       "1      9.5        6  \n",
       "2     10.1        6  \n",
       "3      9.9        6  \n",
       "4      9.9        6  "
      ]
     },
     "execution_count": 3,
     "metadata": {},
     "output_type": "execute_result"
    }
   ],
   "source": [
    "whiteWine.head()"
   ]
  },
  {
   "cell_type": "markdown",
   "metadata": {},
   "source": [
    "## Excercise 2: Histogram of the wine quality"
   ]
  },
  {
   "cell_type": "code",
   "execution_count": 4,
   "metadata": {
    "collapsed": true
   },
   "outputs": [],
   "source": [
    "histogramRed = redWine.groupby('quality').size()\n",
    "histogramWhite = whiteWine.groupby('quality').size()"
   ]
  },
  {
   "cell_type": "code",
   "execution_count": 89,
   "metadata": {
    "collapsed": false
   },
   "outputs": [
    {
     "data": {
      "image/png": "[encoded data removed]",
      "text/plain": [
       "<matplotlib.figure.Figure at 0x7fb977259668>"
      ]
     },
     "metadata": {},
     "output_type": "display_data"
    }
   ],
   "source": [
    "import matplotlib.pyplot as plt\n",
    "%matplotlib inline\n",
    "\n",
    "\n",
    "figWidth = 11\n",
    "fig = plt.figure(figsize=(figWidth,8))\n",
    "\n",
    "redKeys = list(histogramRed.keys())\n",
    "whiteKeys = list(histogramWhite.keys())\n",
    "\n",
    "redValues = np.zeros(10)\n",
    "whiteValues = np.zeros(10)\n",
    "\n",
    "## the code below can be used for normalization of the values\n",
    "#sumRedWine = sum(histogramRed)\n",
    "#sumWhiteWine = sum(histogramWhite)\n",
    "\n",
    "for key in redKeys:\n",
    "    redValues[key-1] = histogramRed[key]# / sumRedWine\n",
    "for key in whiteKeys:\n",
    "    whiteValues[key-1] = histogramWhite[key]# / sumWhiteWine\n",
    "\n",
    "ind = np.arange(1, 11)                # the x locations for the groups\n",
    "width = 0.4\n",
    "\n",
    "white = plt.bar(ind-width, whiteValues, width,\n",
    "                color='white')\n",
    "\n",
    "red = plt.bar(ind, redValues, width,\n",
    "                    color='red')\n",
    "\n",
    "# axes and labels\n",
    "plt.ylabel('Occurances')\n",
    "plt.xlabel('wine quality')\n",
    "plt.title('Figure 1: Histogram of wine qualities')\n",
    "xTickMarks = ind\n",
    "xtickNames = plt.xticks(xTickMarks)\n",
    "\n",
    "## add a legend\n",
    "fig.legend( (white[0], red[0]), ('White wine', 'Red wine') )\n",
    "\n",
    "plt.show()"
   ]
  },
  {
   "cell_type": "markdown",
   "metadata": {},
   "source": [
    "## Excercise 3\n",
    "When we look at this figure, we can clearly observe, that we have a higher number of samples for the white wine than for the red wine. So we can assume that we will be able to observe more precise results for the white wines as the 'noise' on our measurements won't influence the analysis as much as it does on the red wine.\n",
    "<br> Also we can see, that the most wines have a qualitu in the range from 5-7 while there are very few wines, that have a quality of 3, 4, 8, and 9 and even no whine that has quality 1, 2 or 10. This means, that the linear regression will very likely be biased towards assigning the wines a quality between 5 and 7 as this happens most often.\n",
    "<br><br> From a first glance it seems that both distributions follow a gaussian distribution with a mean value around 5-6."
   ]
  },
  {
   "cell_type": "markdown",
   "metadata": {},
   "source": [
    "## Excercise 4 (linear regression)\n",
    "### 4.a) create training- and test-data "
   ]
  },
  {
   "cell_type": "code",
   "execution_count": 6,
   "metadata": {
    "collapsed": false
   },
   "outputs": [
    {
     "data": {
      "text/html": [
       "<div>\n",
       "<table border=\"1\" class=\"dataframe\">\n",
       "  <thead>\n",
       "    <tr style=\"text-align: right;\">\n",
       "      <th></th>\n",
       "      <th>fixed acidity</th>\n",
       "      <th>volatile acidity</th>\n",
       "      <th>citric acid</th>\n",
       "      <th>residual sugar</th>\n",
       "      <th>chlorides</th>\n",
       "      <th>free sulfur dioxide</th>\n",
       "      <th>total sulfur dioxide</th>\n",
       "      <th>density</th>\n",
       "      <th>pH</th>\n",
       "      <th>sulphates</th>\n",
       "      <th>alcohol</th>\n",
       "      <th>quality</th>\n",
       "    </tr>\n",
       "  </thead>\n",
       "  <tbody>\n",
       "    <tr>\n",
       "      <th>193</th>\n",
       "      <td>7.6</td>\n",
       "      <td>0.55</td>\n",
       "      <td>0.21</td>\n",
       "      <td>2.2</td>\n",
       "      <td>0.071</td>\n",
       "      <td>7</td>\n",
       "      <td>28</td>\n",
       "      <td>0.99640</td>\n",
       "      <td>3.28</td>\n",
       "      <td>0.55</td>\n",
       "      <td>9.7</td>\n",
       "      <td>5</td>\n",
       "    </tr>\n",
       "    <tr>\n",
       "      <th>1342</th>\n",
       "      <td>7.6</td>\n",
       "      <td>0.54</td>\n",
       "      <td>0.02</td>\n",
       "      <td>1.7</td>\n",
       "      <td>0.085</td>\n",
       "      <td>17</td>\n",
       "      <td>31</td>\n",
       "      <td>0.99589</td>\n",
       "      <td>3.37</td>\n",
       "      <td>0.51</td>\n",
       "      <td>10.4</td>\n",
       "      <td>6</td>\n",
       "    </tr>\n",
       "    <tr>\n",
       "      <th>688</th>\n",
       "      <td>7.7</td>\n",
       "      <td>0.66</td>\n",
       "      <td>0.04</td>\n",
       "      <td>1.6</td>\n",
       "      <td>0.039</td>\n",
       "      <td>4</td>\n",
       "      <td>9</td>\n",
       "      <td>0.99620</td>\n",
       "      <td>3.40</td>\n",
       "      <td>0.47</td>\n",
       "      <td>9.4</td>\n",
       "      <td>5</td>\n",
       "    </tr>\n",
       "    <tr>\n",
       "      <th>900</th>\n",
       "      <td>8.9</td>\n",
       "      <td>0.31</td>\n",
       "      <td>0.36</td>\n",
       "      <td>2.6</td>\n",
       "      <td>0.056</td>\n",
       "      <td>10</td>\n",
       "      <td>39</td>\n",
       "      <td>0.99562</td>\n",
       "      <td>3.40</td>\n",
       "      <td>0.69</td>\n",
       "      <td>11.8</td>\n",
       "      <td>5</td>\n",
       "    </tr>\n",
       "    <tr>\n",
       "      <th>1402</th>\n",
       "      <td>7.6</td>\n",
       "      <td>0.30</td>\n",
       "      <td>0.42</td>\n",
       "      <td>2.0</td>\n",
       "      <td>0.052</td>\n",
       "      <td>6</td>\n",
       "      <td>24</td>\n",
       "      <td>0.99630</td>\n",
       "      <td>3.44</td>\n",
       "      <td>0.82</td>\n",
       "      <td>11.9</td>\n",
       "      <td>6</td>\n",
       "    </tr>\n",
       "  </tbody>\n",
       "</table>\n",
       "</div>"
      ],
      "text/plain": [
       "      fixed acidity  volatile acidity  citric acid  residual sugar  chlorides  \\\n",
       "193             7.6              0.55         0.21             2.2      0.071   \n",
       "1342            7.6              0.54         0.02             1.7      0.085   \n",
       "688             7.7              0.66         0.04             1.6      0.039   \n",
       "900             8.9              0.31         0.36             2.6      0.056   \n",
       "1402            7.6              0.30         0.42             2.0      0.052   \n",
       "\n",
       "      free sulfur dioxide  total sulfur dioxide  density    pH  sulphates  \\\n",
       "193                     7                    28  0.99640  3.28       0.55   \n",
       "1342                   17                    31  0.99589  3.37       0.51   \n",
       "688                     4                     9  0.99620  3.40       0.47   \n",
       "900                    10                    39  0.99562  3.40       0.69   \n",
       "1402                    6                    24  0.99630  3.44       0.82   \n",
       "\n",
       "      alcohol  quality  \n",
       "193       9.7        5  \n",
       "1342     10.4        6  \n",
       "688       9.4        5  \n",
       "900      11.8        5  \n",
       "1402     11.9        6  "
      ]
     },
     "execution_count": 6,
     "metadata": {},
     "output_type": "execute_result"
    }
   ],
   "source": [
    "# define the proportion\n",
    "trainingSize = 0.7\n",
    "testSize = 0.3\n",
    "\n",
    "# create randomly shuffled list of indexes\n",
    "indexes = np.arange(len(redWine))\n",
    "np.random.shuffle(indexes)\n",
    "\n",
    "# split the indexes into training and test indexes\n",
    "trainingInd = indexes[:int(trainingSize*len(indexes))]\n",
    "testInd = indexes[int(trainingSize*len(indexes))+1:]\n",
    "\n",
    "# split the data accordingly to the indexes\n",
    "trainRed = redWine.ix[trainingInd,:]\n",
    "testRed = redWine.ix[testInd,:]\n",
    "trainRed.head(5)"
   ]
  },
  {
   "cell_type": "code",
   "execution_count": 7,
   "metadata": {
    "collapsed": false
   },
   "outputs": [
    {
     "data": {
      "text/html": [
       "<div>\n",
       "<table border=\"1\" class=\"dataframe\">\n",
       "  <thead>\n",
       "    <tr style=\"text-align: right;\">\n",
       "      <th></th>\n",
       "      <th>fixed acidity</th>\n",
       "      <th>volatile acidity</th>\n",
       "      <th>citric acid</th>\n",
       "      <th>residual sugar</th>\n",
       "      <th>chlorides</th>\n",
       "      <th>free sulfur dioxide</th>\n",
       "      <th>total sulfur dioxide</th>\n",
       "      <th>density</th>\n",
       "      <th>pH</th>\n",
       "      <th>sulphates</th>\n",
       "      <th>alcohol</th>\n",
       "      <th>quality</th>\n",
       "    </tr>\n",
       "  </thead>\n",
       "  <tbody>\n",
       "    <tr>\n",
       "      <th>735</th>\n",
       "      <td>7.7</td>\n",
       "      <td>0.965</td>\n",
       "      <td>0.10</td>\n",
       "      <td>2.1</td>\n",
       "      <td>0.112</td>\n",
       "      <td>11</td>\n",
       "      <td>22</td>\n",
       "      <td>0.99630</td>\n",
       "      <td>3.26</td>\n",
       "      <td>0.50</td>\n",
       "      <td>9.5</td>\n",
       "      <td>5</td>\n",
       "    </tr>\n",
       "    <tr>\n",
       "      <th>1114</th>\n",
       "      <td>5.0</td>\n",
       "      <td>0.400</td>\n",
       "      <td>0.50</td>\n",
       "      <td>4.3</td>\n",
       "      <td>0.046</td>\n",
       "      <td>29</td>\n",
       "      <td>80</td>\n",
       "      <td>0.99020</td>\n",
       "      <td>3.49</td>\n",
       "      <td>0.66</td>\n",
       "      <td>13.6</td>\n",
       "      <td>6</td>\n",
       "    </tr>\n",
       "    <tr>\n",
       "      <th>310</th>\n",
       "      <td>10.3</td>\n",
       "      <td>0.530</td>\n",
       "      <td>0.48</td>\n",
       "      <td>2.5</td>\n",
       "      <td>0.063</td>\n",
       "      <td>6</td>\n",
       "      <td>25</td>\n",
       "      <td>0.99980</td>\n",
       "      <td>3.12</td>\n",
       "      <td>0.59</td>\n",
       "      <td>9.3</td>\n",
       "      <td>6</td>\n",
       "    </tr>\n",
       "    <tr>\n",
       "      <th>1437</th>\n",
       "      <td>6.8</td>\n",
       "      <td>0.915</td>\n",
       "      <td>0.29</td>\n",
       "      <td>4.8</td>\n",
       "      <td>0.070</td>\n",
       "      <td>15</td>\n",
       "      <td>39</td>\n",
       "      <td>0.99577</td>\n",
       "      <td>3.53</td>\n",
       "      <td>0.54</td>\n",
       "      <td>11.1</td>\n",
       "      <td>5</td>\n",
       "    </tr>\n",
       "    <tr>\n",
       "      <th>378</th>\n",
       "      <td>11.4</td>\n",
       "      <td>0.625</td>\n",
       "      <td>0.66</td>\n",
       "      <td>6.2</td>\n",
       "      <td>0.088</td>\n",
       "      <td>6</td>\n",
       "      <td>24</td>\n",
       "      <td>0.99880</td>\n",
       "      <td>3.11</td>\n",
       "      <td>0.99</td>\n",
       "      <td>13.3</td>\n",
       "      <td>6</td>\n",
       "    </tr>\n",
       "  </tbody>\n",
       "</table>\n",
       "</div>"
      ],
      "text/plain": [
       "      fixed acidity  volatile acidity  citric acid  residual sugar  chlorides  \\\n",
       "735             7.7             0.965         0.10             2.1      0.112   \n",
       "1114            5.0             0.400         0.50             4.3      0.046   \n",
       "310            10.3             0.530         0.48             2.5      0.063   \n",
       "1437            6.8             0.915         0.29             4.8      0.070   \n",
       "378            11.4             0.625         0.66             6.2      0.088   \n",
       "\n",
       "      free sulfur dioxide  total sulfur dioxide  density    pH  sulphates  \\\n",
       "735                    11                    22  0.99630  3.26       0.50   \n",
       "1114                   29                    80  0.99020  3.49       0.66   \n",
       "310                     6                    25  0.99980  3.12       0.59   \n",
       "1437                   15                    39  0.99577  3.53       0.54   \n",
       "378                     6                    24  0.99880  3.11       0.99   \n",
       "\n",
       "      alcohol  quality  \n",
       "735       9.5        5  \n",
       "1114     13.6        6  \n",
       "310       9.3        6  \n",
       "1437     11.1        5  \n",
       "378      13.3        6  "
      ]
     },
     "execution_count": 7,
     "metadata": {},
     "output_type": "execute_result"
    }
   ],
   "source": [
    "testRed.head(5)"
   ]
  },
  {
   "cell_type": "markdown",
   "metadata": {},
   "source": [
    "### 4.b) fit linear regression"
   ]
  },
  {
   "cell_type": "code",
   "execution_count": 8,
   "metadata": {
    "collapsed": true
   },
   "outputs": [],
   "source": [
    "def featurizeData(data, order=1):\n",
    "        # add the '1' column to the data\n",
    "        data['1'] = 1\n",
    "        return data.as_matrix()\n",
    "\n",
    "def linearRegression(data, targets, order=1):\n",
    "    features = featurizeData(data, order)\n",
    "    targetVec = targets.as_matrix()\n",
    "    \n",
    "    weights = np.dot(np.linalg.inv(np.dot(np.transpose(features), features)),np.dot(np.transpose(features),targetVec))\n",
    "    return weights"
   ]
  },
  {
   "cell_type": "code",
   "execution_count": 9,
   "metadata": {
    "collapsed": false
   },
   "outputs": [],
   "source": [
    "w = linearRegression(trainRed.loc[:,:'alcohol'], trainRed.loc[:,'quality'],1)"
   ]
  },
  {
   "cell_type": "code",
   "execution_count": 10,
   "metadata": {
    "collapsed": false
   },
   "outputs": [],
   "source": [
    "def predict(data, weights, targets=[]):\n",
    "    withTargets = len(targets)!= 0\n",
    "    \n",
    "    if withTargets:\n",
    "        targetVec = targets.as_matrix()\n",
    "    \n",
    "    result = []\n",
    "    features = featurizeData(data)\n",
    "    for ind in range(len(features)):\n",
    "        predict = np.dot(weights, features[ind,:])\n",
    "        if withTargets:\n",
    "            result.append((predict, targetVec[ind]))\n",
    "        else:\n",
    "            result.append((predict, none))\n",
    "    return result"
   ]
  },
  {
   "cell_type": "code",
   "execution_count": 11,
   "metadata": {
    "collapsed": false
   },
   "outputs": [],
   "source": [
    "predictions = predict(testRed.loc[:,:'alcohol'], w, testRed.loc[:,'quality'])"
   ]
  },
  {
   "cell_type": "markdown",
   "metadata": {},
   "source": [
    "### 4.c) make predictions"
   ]
  },
  {
   "cell_type": "code",
   "execution_count": 90,
   "metadata": {
    "collapsed": false
   },
   "outputs": [
    {
     "data": {
      "text/plain": [
       "<matplotlib.text.Text at 0x7fb96e32ff98>"
      ]
     },
     "execution_count": 90,
     "metadata": {},
     "output_type": "execute_result"
    },
    {
     "data": {
      "image/png": "[encoded data removed]",
      "text/plain": [
       "<matplotlib.figure.Figure at 0x7fb96e3121d0>"
      ]
     },
     "metadata": {},
     "output_type": "display_data"
    }
   ],
   "source": [
    "fig = plt.figure(figsize=(11,8))\n",
    "predVals = np.array(list(map(lambda l: l[0], predictions)))\n",
    "targetVals = np.array(list(map(lambda l: l[1], predictions)))\n",
    "\n",
    "plt.scatter(predVals, targetVals)\n",
    "plt.xlabel('predicted value')\n",
    "plt.ylabel('real value')\n",
    "plt.title('Figure 2: Prediction vs. real value')"
   ]
  },
  {
   "cell_type": "code",
   "execution_count": 13,
   "metadata": {
    "collapsed": false
   },
   "outputs": [
    {
     "name": "stdout",
     "output_type": "stream",
     "text": [
      "The mean squared error is 0.3933\n"
     ]
    }
   ],
   "source": [
    "def computeMeanSquaredError(predictions, targets):\n",
    "    return ((predictions - targets) **2).mean()\n",
    "\n",
    "mse = computeMeanSquaredError(predVals, targetVals)\n",
    "print('The mean squared error is %.4f' %mse)"
   ]
  },
  {
   "cell_type": "markdown",
   "metadata": {},
   "source": [
    "### 4.d) Suggest Benchmark\n",
    "As a very easy benchmark we could suggest to use the most frequent value for prediction. This is comparable to a linear regression of order 0.\n",
    "<br> Another possible benchmark could be to calculate the Pearson correlation coefficient. This correlation should be 1 for a perfect linear regression."
   ]
  },
  {
   "cell_type": "markdown",
   "metadata": {},
   "source": [
    "### 4.e) Implement Benchmark"
   ]
  },
  {
   "cell_type": "code",
   "execution_count": 14,
   "metadata": {
    "collapsed": false
   },
   "outputs": [
    {
     "data": {
      "text/plain": [
       "1.068893528183716"
      ]
     },
     "execution_count": 14,
     "metadata": {},
     "output_type": "execute_result"
    }
   ],
   "source": [
    "def benchmarkMFV(targets):\n",
    "    targetVec = targets.as_matrix()\n",
    "    predictValue = np.mean(targetVec)\n",
    "    \n",
    "    predictions = np.empty_like(targetVec)\n",
    "    predictions.fill(predictValue)\n",
    "    \n",
    "    return computeMeanSquaredError(predictions, targetVec)\n",
    "\n",
    "benchmarkMFV(testRed.loc[:, 'quality'])"
   ]
  },
  {
   "cell_type": "code",
   "execution_count": 15,
   "metadata": {
    "collapsed": false
   },
   "outputs": [
    {
     "data": {
      "text/plain": [
       "0.62634742273584509"
      ]
     },
     "execution_count": 15,
     "metadata": {},
     "output_type": "execute_result"
    }
   ],
   "source": [
    "def calculatePearsonCoefficient(predictions, targets):\n",
    "    assert (len(predictions) == len(targets)), \"The dimensions of predictions and targets must fit!\"\n",
    "    \n",
    "    predMean = np.mean(predictions)\n",
    "    tarMean = np.mean(targets)\n",
    "    \n",
    "    return np.mean((predictions - predMean)*(targets - tarMean)) / (np.std(targets) * np.std(predictions))\n",
    "\n",
    "calculatePearsonCoefficient(predVals, targetVals)\n",
    "\n"
   ]
  },
  {
   "cell_type": "markdown",
   "metadata": {},
   "source": [
    "### 4.f) Discussion of Benchmarks\n",
    "Both benchmarks show, that our linear regression is on a good way, but it's still not perfect. When compare the mean squared error (MSE) for our predictions with the MSE we achieved by just assigning the most common quality value, we can observe that our MSE is significantly smaller. Still, the MSE is not perfect.\n",
    "<br> The same goes for the Pearson correlation coefficien that is computed as <br> $\\begin{equation} corr(X,Y) = \\dfrac{cov(X,Y)}{\\sigma_X \\cdot \\sigma_Y} \\end{equation}$ <br>\n",
    "Our result of a correlation coefficient of .63 shows that the regression model is able to create a correlation between the predicted quality and the real quality. This correlation is moderate but way better than guessing."
   ]
  },
  {
   "cell_type": "markdown",
   "metadata": {},
   "source": [
    "## Excercise 5 (Regularized Linear Regression)\n",
    "### 5.a) Implementation of regularized Linear Regression aka Ridge Regression"
   ]
  },
  {
   "cell_type": "code",
   "execution_count": 16,
   "metadata": {
    "collapsed": true
   },
   "outputs": [],
   "source": [
    "def ridgeRegression(data, targets, lambda_, order=1):\n",
    "    features = featurizeData(data, order)\n",
    "    targetVec = targets.as_matrix()\n",
    "    \n",
    "    weights = np.dot(np.linalg.inv(np.dot(np.transpose(features), features) + (lambda_ * np.identity(len(features[0])) )), \\\n",
    "                     np.dot(np.transpose(features),targetVec))\n",
    "    return weights"
   ]
  },
  {
   "cell_type": "code",
   "execution_count": 17,
   "metadata": {
    "collapsed": true
   },
   "outputs": [],
   "source": [
    "wRidge = ridgeRegression(trainRed.loc[:,:'alcohol'], trainRed.loc[:,'quality'],1)\n",
    "predictionsRidge = predict(testRed.loc[:,:'alcohol'], wRidge, testRed.loc[:,'quality'])"
   ]
  },
  {
   "cell_type": "code",
   "execution_count": 91,
   "metadata": {
    "collapsed": false
   },
   "outputs": [],
   "source": [
    "def mseFromPredictions(predictions):\n",
    "        predVals = np.array(list(map(lambda l: l[0], predictions)))\n",
    "        targetVals = np.array(list(map(lambda l: l[1], predictions)))\n",
    "        return computeMeanSquaredError(predVals, targetVals)\n",
    "\n",
    "def findGoodLambda(trainData, trainTargets, testData, testTargets, lambdaMin, lambdaMax, stepsize):\n",
    "    results = []\n",
    "    \n",
    "    for value in np.arange(lambdaMin, lambdaMax, stepsize):\n",
    "        weights = ridgeRegression(trainData, trainTargets, value)\n",
    "        predictions = predict(testData, weights, testTargets)\n",
    "        results.append((value, mseFromPredictions(predictions)))\n",
    "        \n",
    "    figureWidth = 15    \n",
    "    fig = plt.figure(figsize=(figureWidth,8))\n",
    "    indexes = list(map(lambda l: l[0], results))\n",
    "    values = list(map(lambda l: l[1], results))\n",
    "    \n",
    "    minVal = min(values)\n",
    "    maxVal = max(values)\n",
    "    \n",
    "    width = 0.9\n",
    "\n",
    "    plt.bar(indexes, values, width,\n",
    "                    color='red')\n",
    "    plt.ylabel('MSE')\n",
    "    plt.xlabel('lambda value')\n",
    "    plt.title('Figure 3: MSE vs lambda')\n",
    "    xTickMarks = indexes\n",
    "    xtickNames = plt.xticks(xTickMarks)\n",
    "\n",
    "    plt.xlim(lambdaMin, lambdaMax)\n",
    "    plt.ylim(minVal - 0.5 * (maxVal-minVal), maxVal + 0.5 * (maxVal-minVal))\n",
    "    plt.show()\n",
    "    \n",
    "    return results"
   ]
  },
  {
   "cell_type": "code",
   "execution_count": 92,
   "metadata": {
    "collapsed": false
   },
   "outputs": [
    {
     "data": {
      "image/png": "[encoded data removed]",
      "text/plain": [
       "<matplotlib.figure.Figure at 0x7fb977278b38>"
      ]
     },
     "metadata": {},
     "output_type": "display_data"
    }
   ],
   "source": [
    "res = findGoodLambda(trainRed.loc[:,:'alcohol'], trainRed.loc[:,'quality'], testRed.loc[:,:'alcohol'],\\\n",
    "               testRed.loc[:,'quality'], 1, 10, 1)"
   ]
  },
  {
   "cell_type": "markdown",
   "metadata": {},
   "source": [
    "### 5.b) Determining Parameter for Lambda\n",
    "This is not a good way to determine the lambda-parameter because we optimize the parameter only with regard to one particuliar piece of the dataset. So we run into the problem of overfitting. That means, that it is likely, that the best paramter for this piece of data is not equal to the best parameter for the whole dataset. We might find, that this best parameter for this piece of data fails to generalize when it comes to predicting new data. Also we lose a lot of information by tuning the paramter only based on a small amount of data (in this case 30% of the total dataset) instead of tuning it on the whole dataset."
   ]
  },
  {
   "cell_type": "markdown",
   "metadata": {
    "collapsed": true
   },
   "source": [
    "### 5.c) k-fold crossvalidation   "
   ]
  },
  {
   "cell_type": "code",
   "execution_count": 50,
   "metadata": {
    "collapsed": false
   },
   "outputs": [],
   "source": [
    "def kFoldCV(data, targets, k, lambda_):\n",
    "    \n",
    "    # create a list of indexes as long as data\n",
    "    indexes = np.arange(len(data))\n",
    "    \n",
    "    # squeeze indexes to interval [0,...,k-1]\n",
    "    indexes = [ ind % k for ind in indexes]\n",
    "    \n",
    "    # shuffle indexes and add them as column to dataframe\n",
    "    np.random.shuffle(indexes)\n",
    "    data['cvInd'] = indexes\n",
    "    \n",
    "    mse = []\n",
    "    \n",
    "    for i in range(k):\n",
    "        traindata = data[data.cvInd != i].loc[:,:'alcohol']\n",
    "        trainlabels = targets[data.cvInd != i]\n",
    "        \n",
    "        testdata = data[data.cvInd == i].loc[:,:'alcohol']\n",
    "        testlabels = targets[data.cvInd == i]\n",
    "        \n",
    "        weights = ridgeRegression(traindata, trainlabels, lambda_)\n",
    "\n",
    "        currentMSE = mseFromPredictions(predict(testdata, weights, testlabels))\n",
    "   \n",
    "        mse.append(currentMSE)\n",
    "    \n",
    "    data = data.drop('cvInd', 1)\n",
    "    return np.mean(mse)"
   ]
  },
  {
   "cell_type": "code",
   "execution_count": 95,
   "metadata": {
    "collapsed": false
   },
   "outputs": [],
   "source": [
    "def findGoodLambdaWithCV(data, k, lambdaMin, lambdaMax, stepsize):\n",
    "    \n",
    "    results = []\n",
    "    for lambda_ in np.arange(lambdaMin, lambdaMax, stepsize):\n",
    "        results.append((lambda_, kFoldCV(redWine.loc[:,:'alcohol'], redWine.loc[:,'quality'], k, lambda_)) )\n",
    "   \n",
    "    figureWidth = 15    \n",
    "    fig = plt.figure(figsize=(figureWidth,8))\n",
    "    indexes = list(map(lambda l: l[0], results))\n",
    "    values = list(map(lambda l: l[1], results))\n",
    "    \n",
    "    minVal = min(values)\n",
    "    maxVal = max(values)\n",
    "    \n",
    "    width = 0.9 * stepsize\n",
    "\n",
    "    plt.bar(indexes, values, width,\n",
    "                    color='red', align='center')\n",
    "    plt.ylabel('MSE')\n",
    "    plt.xlabel('lambda value')\n",
    "    plt.title('Figure 4: MSE vs lambda')\n",
    "    xTickMarks = indexes\n",
    "    xtickNames = plt.xticks(xTickMarks)\n",
    "\n",
    "    plt.xlim(lambdaMin-width, lambdaMax)\n",
    "    plt.ylim(minVal - 0.5 * (maxVal-minVal), maxVal + 0.5 * (maxVal-minVal))\n",
    "    plt.show()\n",
    "    \n",
    "    return results"
   ]
  },
  {
   "cell_type": "code",
   "execution_count": 98,
   "metadata": {
    "collapsed": false
   },
   "outputs": [
    {
     "data": {
      "image/png": "[encoded data removed]",
      "text/plain": [
       "<matplotlib.figure.Figure at 0x7fb96d598ef0>"
      ]
     },
     "metadata": {},
     "output_type": "display_data"
    }
   ],
   "source": [
    "res = findGoodLambdaWithCV(redWine, 10, 0, .5, .05)"
   ]
  },
  {
   "cell_type": "code",
   "execution_count": 99,
   "metadata": {
    "collapsed": false
   },
   "outputs": [
    {
     "name": "stdout",
     "output_type": "stream",
     "text": [
      "The minimum mse value was mse = 0.424 at lambda = 0.20 \n"
     ]
    }
   ],
   "source": [
    "def extractBestValue(results):\n",
    "    minVal = min(results, key=lambda l: l[1])\n",
    "    print(\"The minimum mse value was mse = %.3f at lambda = %.2f \" %(minVal[1], minVal[0]))\n",
    "    return\n",
    "\n",
    "extractBestValue(res)\n",
    "\n",
    "# TODO: What does he mean by 'Quote the optimal value, and the performance at this value on the test set'"
   ]
  },
  {
   "cell_type": "markdown",
   "metadata": {},
   "source": [
    "### 5.d) Comparison of Performance\n",
    "To answer this question we must first talk about the mse-value for the standard linear regression. When calculated in excercise 4.c), the mse was approximately 0.39. However this value was only computed on the test-dataset without the use of any crossvalidation technique. However, when we take a look at figure 4, we see another image. Here the value for lambda = 0 corresponds to a standard linear regression and this value ($\\approx 0.426$) is slightly higher than the value computed before. So the first thing to discuss is, why the mse for the standard linear regression is higher, when computed via 10-crossvalidation:<br>\n",
    "When we use only one part of the dataset for testing the performance of the regression (instead of doing the crossvalidation), we run into a problem: it is possible, that we selected a part of the dataset that behaves extremly (either very well or very bad). This is actually one of the reasons why we use crossvalidation, to average over the whole dataset. So the value of the crossvalidation is much more reliable than the value computed only on the testset and we should furthermore use the values computed with crossvalidation to discuss differences in performance.<br>"
   ]
  },
  {
   "cell_type": "code",
   "execution_count": null,
   "metadata": {
    "collapsed": true
   },
   "outputs": [],
   "source": []
  }
 ],
 "metadata": {
  "kernelspec": {
   "display_name": "Python 3",
   "language": "python",
   "name": "python3"
  },
  "language_info": {
   "codemirror_mode": {
    "name": "ipython",
    "version": 3
   },
   "file_extension": ".py",
   "mimetype": "text/x-python",
   "name": "python",
   "nbconvert_exporter": "python",
   "pygments_lexer": "ipython3",
   "version": "3.4.4"
  }
 },
 "nbformat": 4,
 "nbformat_minor": 0
}
