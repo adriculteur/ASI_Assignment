{
 "cells": [
  {
   "cell_type": "markdown",
   "metadata": {},
   "source": [
    "# Algorithmic Machine Learning assignment\n",
    "due date: 27.05.2016 <br>\n",
    "student: Adrian Simon Bauer"
   ]
  },
  {
   "cell_type": "markdown",
   "metadata": {},
   "source": [
    "## Excercise 1:"
   ]
  },
  {
   "cell_type": "code",
   "execution_count": 15,
   "metadata": {
    "collapsed": false
   },
   "outputs": [],
   "source": [
    "import numpy as np\n",
    "import pandas as pd\n",
    "import matplotlib.pyplot as plt\n",
    "%matplotlib inline\n",
    "from collections import namedtuple\n",
    "import scipy.stats as st\n",
    "\n",
    "# read the datafiles\n",
    "redWine = pd.read_csv('data/winequality-red.csv', sep=';', header=0)\n",
    "whiteWine = pd.read_csv('data/winequality-white.csv', sep=';', header=0)\n",
    "\n",
    "## TODO: check for NA-data"
   ]
  },
  {
   "cell_type": "code",
   "execution_count": 2,
   "metadata": {
    "collapsed": false
   },
   "outputs": [
    {
     "data": {
      "text/html": [
       "<div>\n",
       "<table border=\"1\" class=\"dataframe\">\n",
       "  <thead>\n",
       "    <tr style=\"text-align: right;\">\n",
       "      <th></th>\n",
       "      <th>fixed acidity</th>\n",
       "      <th>volatile acidity</th>\n",
       "      <th>citric acid</th>\n",
       "      <th>residual sugar</th>\n",
       "      <th>chlorides</th>\n",
       "      <th>free sulfur dioxide</th>\n",
       "      <th>total sulfur dioxide</th>\n",
       "      <th>density</th>\n",
       "      <th>pH</th>\n",
       "      <th>sulphates</th>\n",
       "      <th>alcohol</th>\n",
       "      <th>quality</th>\n",
       "    </tr>\n",
       "  </thead>\n",
       "  <tbody>\n",
       "    <tr>\n",
       "      <th>0</th>\n",
       "      <td>7.4</td>\n",
       "      <td>0.70</td>\n",
       "      <td>0.00</td>\n",
       "      <td>1.9</td>\n",
       "      <td>0.076</td>\n",
       "      <td>11</td>\n",
       "      <td>34</td>\n",
       "      <td>0.9978</td>\n",
       "      <td>3.51</td>\n",
       "      <td>0.56</td>\n",
       "      <td>9.4</td>\n",
       "      <td>5</td>\n",
       "    </tr>\n",
       "    <tr>\n",
       "      <th>1</th>\n",
       "      <td>7.8</td>\n",
       "      <td>0.88</td>\n",
       "      <td>0.00</td>\n",
       "      <td>2.6</td>\n",
       "      <td>0.098</td>\n",
       "      <td>25</td>\n",
       "      <td>67</td>\n",
       "      <td>0.9968</td>\n",
       "      <td>3.20</td>\n",
       "      <td>0.68</td>\n",
       "      <td>9.8</td>\n",
       "      <td>5</td>\n",
       "    </tr>\n",
       "    <tr>\n",
       "      <th>2</th>\n",
       "      <td>7.8</td>\n",
       "      <td>0.76</td>\n",
       "      <td>0.04</td>\n",
       "      <td>2.3</td>\n",
       "      <td>0.092</td>\n",
       "      <td>15</td>\n",
       "      <td>54</td>\n",
       "      <td>0.9970</td>\n",
       "      <td>3.26</td>\n",
       "      <td>0.65</td>\n",
       "      <td>9.8</td>\n",
       "      <td>5</td>\n",
       "    </tr>\n",
       "    <tr>\n",
       "      <th>3</th>\n",
       "      <td>11.2</td>\n",
       "      <td>0.28</td>\n",
       "      <td>0.56</td>\n",
       "      <td>1.9</td>\n",
       "      <td>0.075</td>\n",
       "      <td>17</td>\n",
       "      <td>60</td>\n",
       "      <td>0.9980</td>\n",
       "      <td>3.16</td>\n",
       "      <td>0.58</td>\n",
       "      <td>9.8</td>\n",
       "      <td>6</td>\n",
       "    </tr>\n",
       "    <tr>\n",
       "      <th>4</th>\n",
       "      <td>7.4</td>\n",
       "      <td>0.70</td>\n",
       "      <td>0.00</td>\n",
       "      <td>1.9</td>\n",
       "      <td>0.076</td>\n",
       "      <td>11</td>\n",
       "      <td>34</td>\n",
       "      <td>0.9978</td>\n",
       "      <td>3.51</td>\n",
       "      <td>0.56</td>\n",
       "      <td>9.4</td>\n",
       "      <td>5</td>\n",
       "    </tr>\n",
       "  </tbody>\n",
       "</table>\n",
       "</div>"
      ],
      "text/plain": [
       "   fixed acidity  volatile acidity  citric acid  residual sugar  chlorides  \\\n",
       "0            7.4              0.70         0.00             1.9      0.076   \n",
       "1            7.8              0.88         0.00             2.6      0.098   \n",
       "2            7.8              0.76         0.04             2.3      0.092   \n",
       "3           11.2              0.28         0.56             1.9      0.075   \n",
       "4            7.4              0.70         0.00             1.9      0.076   \n",
       "\n",
       "   free sulfur dioxide  total sulfur dioxide  density    pH  sulphates  \\\n",
       "0                   11                    34   0.9978  3.51       0.56   \n",
       "1                   25                    67   0.9968  3.20       0.68   \n",
       "2                   15                    54   0.9970  3.26       0.65   \n",
       "3                   17                    60   0.9980  3.16       0.58   \n",
       "4                   11                    34   0.9978  3.51       0.56   \n",
       "\n",
       "   alcohol  quality  \n",
       "0      9.4        5  \n",
       "1      9.8        5  \n",
       "2      9.8        5  \n",
       "3      9.8        6  \n",
       "4      9.4        5  "
      ]
     },
     "execution_count": 2,
     "metadata": {},
     "output_type": "execute_result"
    }
   ],
   "source": [
    "redWine.head()"
   ]
  },
  {
   "cell_type": "code",
   "execution_count": 3,
   "metadata": {
    "collapsed": false
   },
   "outputs": [
    {
     "data": {
      "text/html": [
       "<div>\n",
       "<table border=\"1\" class=\"dataframe\">\n",
       "  <thead>\n",
       "    <tr style=\"text-align: right;\">\n",
       "      <th></th>\n",
       "      <th>fixed acidity</th>\n",
       "      <th>volatile acidity</th>\n",
       "      <th>citric acid</th>\n",
       "      <th>residual sugar</th>\n",
       "      <th>chlorides</th>\n",
       "      <th>free sulfur dioxide</th>\n",
       "      <th>total sulfur dioxide</th>\n",
       "      <th>density</th>\n",
       "      <th>pH</th>\n",
       "      <th>sulphates</th>\n",
       "      <th>alcohol</th>\n",
       "      <th>quality</th>\n",
       "    </tr>\n",
       "  </thead>\n",
       "  <tbody>\n",
       "    <tr>\n",
       "      <th>0</th>\n",
       "      <td>7.0</td>\n",
       "      <td>0.27</td>\n",
       "      <td>0.36</td>\n",
       "      <td>20.7</td>\n",
       "      <td>0.045</td>\n",
       "      <td>45</td>\n",
       "      <td>170</td>\n",
       "      <td>1.0010</td>\n",
       "      <td>3.00</td>\n",
       "      <td>0.45</td>\n",
       "      <td>8.8</td>\n",
       "      <td>6</td>\n",
       "    </tr>\n",
       "    <tr>\n",
       "      <th>1</th>\n",
       "      <td>6.3</td>\n",
       "      <td>0.30</td>\n",
       "      <td>0.34</td>\n",
       "      <td>1.6</td>\n",
       "      <td>0.049</td>\n",
       "      <td>14</td>\n",
       "      <td>132</td>\n",
       "      <td>0.9940</td>\n",
       "      <td>3.30</td>\n",
       "      <td>0.49</td>\n",
       "      <td>9.5</td>\n",
       "      <td>6</td>\n",
       "    </tr>\n",
       "    <tr>\n",
       "      <th>2</th>\n",
       "      <td>8.1</td>\n",
       "      <td>0.28</td>\n",
       "      <td>0.40</td>\n",
       "      <td>6.9</td>\n",
       "      <td>0.050</td>\n",
       "      <td>30</td>\n",
       "      <td>97</td>\n",
       "      <td>0.9951</td>\n",
       "      <td>3.26</td>\n",
       "      <td>0.44</td>\n",
       "      <td>10.1</td>\n",
       "      <td>6</td>\n",
       "    </tr>\n",
       "    <tr>\n",
       "      <th>3</th>\n",
       "      <td>7.2</td>\n",
       "      <td>0.23</td>\n",
       "      <td>0.32</td>\n",
       "      <td>8.5</td>\n",
       "      <td>0.058</td>\n",
       "      <td>47</td>\n",
       "      <td>186</td>\n",
       "      <td>0.9956</td>\n",
       "      <td>3.19</td>\n",
       "      <td>0.40</td>\n",
       "      <td>9.9</td>\n",
       "      <td>6</td>\n",
       "    </tr>\n",
       "    <tr>\n",
       "      <th>4</th>\n",
       "      <td>7.2</td>\n",
       "      <td>0.23</td>\n",
       "      <td>0.32</td>\n",
       "      <td>8.5</td>\n",
       "      <td>0.058</td>\n",
       "      <td>47</td>\n",
       "      <td>186</td>\n",
       "      <td>0.9956</td>\n",
       "      <td>3.19</td>\n",
       "      <td>0.40</td>\n",
       "      <td>9.9</td>\n",
       "      <td>6</td>\n",
       "    </tr>\n",
       "  </tbody>\n",
       "</table>\n",
       "</div>"
      ],
      "text/plain": [
       "   fixed acidity  volatile acidity  citric acid  residual sugar  chlorides  \\\n",
       "0            7.0              0.27         0.36            20.7      0.045   \n",
       "1            6.3              0.30         0.34             1.6      0.049   \n",
       "2            8.1              0.28         0.40             6.9      0.050   \n",
       "3            7.2              0.23         0.32             8.5      0.058   \n",
       "4            7.2              0.23         0.32             8.5      0.058   \n",
       "\n",
       "   free sulfur dioxide  total sulfur dioxide  density    pH  sulphates  \\\n",
       "0                   45                   170   1.0010  3.00       0.45   \n",
       "1                   14                   132   0.9940  3.30       0.49   \n",
       "2                   30                    97   0.9951  3.26       0.44   \n",
       "3                   47                   186   0.9956  3.19       0.40   \n",
       "4                   47                   186   0.9956  3.19       0.40   \n",
       "\n",
       "   alcohol  quality  \n",
       "0      8.8        6  \n",
       "1      9.5        6  \n",
       "2     10.1        6  \n",
       "3      9.9        6  \n",
       "4      9.9        6  "
      ]
     },
     "execution_count": 3,
     "metadata": {},
     "output_type": "execute_result"
    }
   ],
   "source": [
    "whiteWine.head()"
   ]
  },
  {
   "cell_type": "markdown",
   "metadata": {},
   "source": [
    "## Excercise 2: Histogram of the wine quality"
   ]
  },
  {
   "cell_type": "code",
   "execution_count": 6,
   "metadata": {
    "collapsed": true
   },
   "outputs": [],
   "source": [
    "histogramRed = redWine.groupby('quality').size()\n",
    "histogramWhite = whiteWine.groupby('quality').size()"
   ]
  },
  {
   "cell_type": "code",
   "execution_count": 7,
   "metadata": {
    "collapsed": false
   },
   "outputs": [
    {
     "data": {
      "image/png": "[encoded data removed]",
      "text/plain": [
       "<matplotlib.figure.Figure at 0x7f21dfd2a9e8>"
      ]
     },
     "metadata": {},
     "output_type": "display_data"
    }
   ],
   "source": [
    "figWidth = 11\n",
    "fig = plt.figure(figsize=(figWidth,8))\n",
    "\n",
    "redKeys = list(histogramRed.keys())\n",
    "whiteKeys = list(histogramWhite.keys())\n",
    "\n",
    "redValues = np.zeros(10)\n",
    "whiteValues = np.zeros(10)\n",
    "\n",
    "## the code below can be used for normalization of the values\n",
    "#sumRedWine = sum(histogramRed)\n",
    "#sumWhiteWine = sum(histogramWhite)\n",
    "\n",
    "for key in redKeys:\n",
    "    redValues[key-1] = histogramRed[key]# / sumRedWine\n",
    "for key in whiteKeys:\n",
    "    whiteValues[key-1] = histogramWhite[key]# / sumWhiteWine\n",
    "\n",
    "ind = np.arange(1, 11)                # the x locations for the groups\n",
    "width = 0.4\n",
    "\n",
    "white = plt.bar(ind-width, whiteValues, width,\n",
    "                color='white')\n",
    "\n",
    "red = plt.bar(ind, redValues, width,\n",
    "                    color='red')\n",
    "\n",
    "# axes and labels\n",
    "plt.ylabel('Occurances')\n",
    "plt.xlabel('wine quality')\n",
    "plt.title('Figure 1: Histogram of wine qualities')\n",
    "xTickMarks = ind\n",
    "xtickNames = plt.xticks(xTickMarks)\n",
    "\n",
    "## add a legend\n",
    "fig.legend( (white[0], red[0]), ('White wine', 'Red wine') )\n",
    "\n",
    "plt.show()"
   ]
  },
  {
   "cell_type": "markdown",
   "metadata": {},
   "source": [
    "## Excercise 3\n",
    "When we look at this figure, we can clearly observe, that we have a higher number of samples for the white wine than for the red wine. So we can assume that we will be able to observe more precise results for the white wines as the 'noise' on our measurements won't influence the analysis as much as it does on the red wine.\n",
    "<br> Also we can see, that the most wines have a quality in the range from 5-7 while there are very few wines, that have a quality of 3, 4, 8, and 9 and even no whine that has quality 1, 2 or 10. This means, that the linear regression will very likely be biased towards assigning the wines a quality between 5 and 7 as this happens most often.\n",
    "<br><br> From a first glance it seems that both distributions follow a gaussian distribution with a mean value around 5-6."
   ]
  },
  {
   "cell_type": "markdown",
   "metadata": {},
   "source": [
    "## Excercise 4 (linear regression)\n",
    "### 4.a) create training- and test-data "
   ]
  },
  {
   "cell_type": "code",
   "execution_count": 68,
   "metadata": {
    "collapsed": false
   },
   "outputs": [
    {
     "data": {
      "text/html": [
       "<div>\n",
       "<table border=\"1\" class=\"dataframe\">\n",
       "  <thead>\n",
       "    <tr style=\"text-align: right;\">\n",
       "      <th></th>\n",
       "      <th>fixed acidity</th>\n",
       "      <th>volatile acidity</th>\n",
       "      <th>citric acid</th>\n",
       "      <th>residual sugar</th>\n",
       "      <th>chlorides</th>\n",
       "      <th>free sulfur dioxide</th>\n",
       "      <th>total sulfur dioxide</th>\n",
       "      <th>density</th>\n",
       "      <th>pH</th>\n",
       "      <th>sulphates</th>\n",
       "      <th>alcohol</th>\n",
       "      <th>quality</th>\n",
       "    </tr>\n",
       "  </thead>\n",
       "  <tbody>\n",
       "    <tr>\n",
       "      <th>295</th>\n",
       "      <td>10.8</td>\n",
       "      <td>0.500</td>\n",
       "      <td>0.46</td>\n",
       "      <td>2.5</td>\n",
       "      <td>0.073</td>\n",
       "      <td>5</td>\n",
       "      <td>27</td>\n",
       "      <td>1.00010</td>\n",
       "      <td>3.05</td>\n",
       "      <td>0.64</td>\n",
       "      <td>9.5</td>\n",
       "      <td>5</td>\n",
       "    </tr>\n",
       "    <tr>\n",
       "      <th>862</th>\n",
       "      <td>7.5</td>\n",
       "      <td>0.420</td>\n",
       "      <td>0.32</td>\n",
       "      <td>2.7</td>\n",
       "      <td>0.067</td>\n",
       "      <td>7</td>\n",
       "      <td>25</td>\n",
       "      <td>0.99628</td>\n",
       "      <td>3.24</td>\n",
       "      <td>0.44</td>\n",
       "      <td>10.4</td>\n",
       "      <td>5</td>\n",
       "    </tr>\n",
       "    <tr>\n",
       "      <th>930</th>\n",
       "      <td>6.6</td>\n",
       "      <td>0.610</td>\n",
       "      <td>0.01</td>\n",
       "      <td>1.9</td>\n",
       "      <td>0.080</td>\n",
       "      <td>8</td>\n",
       "      <td>25</td>\n",
       "      <td>0.99746</td>\n",
       "      <td>3.69</td>\n",
       "      <td>0.73</td>\n",
       "      <td>10.5</td>\n",
       "      <td>5</td>\n",
       "    </tr>\n",
       "    <tr>\n",
       "      <th>885</th>\n",
       "      <td>8.9</td>\n",
       "      <td>0.750</td>\n",
       "      <td>0.14</td>\n",
       "      <td>2.5</td>\n",
       "      <td>0.086</td>\n",
       "      <td>9</td>\n",
       "      <td>30</td>\n",
       "      <td>0.99824</td>\n",
       "      <td>3.34</td>\n",
       "      <td>0.64</td>\n",
       "      <td>10.5</td>\n",
       "      <td>5</td>\n",
       "    </tr>\n",
       "    <tr>\n",
       "      <th>442</th>\n",
       "      <td>15.6</td>\n",
       "      <td>0.685</td>\n",
       "      <td>0.76</td>\n",
       "      <td>3.7</td>\n",
       "      <td>0.100</td>\n",
       "      <td>6</td>\n",
       "      <td>43</td>\n",
       "      <td>1.00320</td>\n",
       "      <td>2.95</td>\n",
       "      <td>0.68</td>\n",
       "      <td>11.2</td>\n",
       "      <td>7</td>\n",
       "    </tr>\n",
       "  </tbody>\n",
       "</table>\n",
       "</div>"
      ],
      "text/plain": [
       "     fixed acidity  volatile acidity  citric acid  residual sugar  chlorides  \\\n",
       "295           10.8             0.500         0.46             2.5      0.073   \n",
       "862            7.5             0.420         0.32             2.7      0.067   \n",
       "930            6.6             0.610         0.01             1.9      0.080   \n",
       "885            8.9             0.750         0.14             2.5      0.086   \n",
       "442           15.6             0.685         0.76             3.7      0.100   \n",
       "\n",
       "     free sulfur dioxide  total sulfur dioxide  density    pH  sulphates  \\\n",
       "295                    5                    27  1.00010  3.05       0.64   \n",
       "862                    7                    25  0.99628  3.24       0.44   \n",
       "930                    8                    25  0.99746  3.69       0.73   \n",
       "885                    9                    30  0.99824  3.34       0.64   \n",
       "442                    6                    43  1.00320  2.95       0.68   \n",
       "\n",
       "     alcohol  quality  \n",
       "295      9.5        5  \n",
       "862     10.4        5  \n",
       "930     10.5        5  \n",
       "885     10.5        5  \n",
       "442     11.2        7  "
      ]
     },
     "execution_count": 68,
     "metadata": {},
     "output_type": "execute_result"
    }
   ],
   "source": [
    "# define the proportion\n",
    "trainingSize = 0.7\n",
    "testSize = 0.3\n",
    "\n",
    "# create randomly shuffled list of indexes\n",
    "indexes = np.arange(len(redWine))\n",
    "np.random.shuffle(indexes)\n",
    "\n",
    "# split the indexes into training and test indexes\n",
    "trainingInd = indexes[:int(trainingSize*len(indexes))]\n",
    "testInd = indexes[int(trainingSize*len(indexes))+1:]\n",
    "\n",
    "# split the data accordingly to the indexes\n",
    "trainRed = redWine.ix[trainingInd,:]\n",
    "testRed = redWine.ix[testInd,:]\n",
    "trainRed.head(5)"
   ]
  },
  {
   "cell_type": "code",
   "execution_count": 69,
   "metadata": {
    "collapsed": false
   },
   "outputs": [
    {
     "data": {
      "text/html": [
       "<div>\n",
       "<table border=\"1\" class=\"dataframe\">\n",
       "  <thead>\n",
       "    <tr style=\"text-align: right;\">\n",
       "      <th></th>\n",
       "      <th>fixed acidity</th>\n",
       "      <th>volatile acidity</th>\n",
       "      <th>citric acid</th>\n",
       "      <th>residual sugar</th>\n",
       "      <th>chlorides</th>\n",
       "      <th>free sulfur dioxide</th>\n",
       "      <th>total sulfur dioxide</th>\n",
       "      <th>density</th>\n",
       "      <th>pH</th>\n",
       "      <th>sulphates</th>\n",
       "      <th>alcohol</th>\n",
       "      <th>quality</th>\n",
       "    </tr>\n",
       "  </thead>\n",
       "  <tbody>\n",
       "    <tr>\n",
       "      <th>131</th>\n",
       "      <td>5.6</td>\n",
       "      <td>0.500</td>\n",
       "      <td>0.09</td>\n",
       "      <td>2.3</td>\n",
       "      <td>0.049</td>\n",
       "      <td>17</td>\n",
       "      <td>99</td>\n",
       "      <td>0.99370</td>\n",
       "      <td>3.63</td>\n",
       "      <td>0.63</td>\n",
       "      <td>13.0</td>\n",
       "      <td>5</td>\n",
       "    </tr>\n",
       "    <tr>\n",
       "      <th>1231</th>\n",
       "      <td>7.8</td>\n",
       "      <td>0.815</td>\n",
       "      <td>0.01</td>\n",
       "      <td>2.6</td>\n",
       "      <td>0.074</td>\n",
       "      <td>48</td>\n",
       "      <td>90</td>\n",
       "      <td>0.99621</td>\n",
       "      <td>3.38</td>\n",
       "      <td>0.62</td>\n",
       "      <td>10.8</td>\n",
       "      <td>5</td>\n",
       "    </tr>\n",
       "    <tr>\n",
       "      <th>180</th>\n",
       "      <td>8.8</td>\n",
       "      <td>0.610</td>\n",
       "      <td>0.14</td>\n",
       "      <td>2.4</td>\n",
       "      <td>0.067</td>\n",
       "      <td>10</td>\n",
       "      <td>42</td>\n",
       "      <td>0.99690</td>\n",
       "      <td>3.19</td>\n",
       "      <td>0.59</td>\n",
       "      <td>9.5</td>\n",
       "      <td>5</td>\n",
       "    </tr>\n",
       "    <tr>\n",
       "      <th>338</th>\n",
       "      <td>12.4</td>\n",
       "      <td>0.490</td>\n",
       "      <td>0.58</td>\n",
       "      <td>3.0</td>\n",
       "      <td>0.103</td>\n",
       "      <td>28</td>\n",
       "      <td>99</td>\n",
       "      <td>1.00080</td>\n",
       "      <td>3.16</td>\n",
       "      <td>1.00</td>\n",
       "      <td>11.5</td>\n",
       "      <td>6</td>\n",
       "    </tr>\n",
       "    <tr>\n",
       "      <th>1112</th>\n",
       "      <td>7.9</td>\n",
       "      <td>0.330</td>\n",
       "      <td>0.41</td>\n",
       "      <td>1.5</td>\n",
       "      <td>0.056</td>\n",
       "      <td>6</td>\n",
       "      <td>35</td>\n",
       "      <td>0.99396</td>\n",
       "      <td>3.29</td>\n",
       "      <td>0.71</td>\n",
       "      <td>11.0</td>\n",
       "      <td>6</td>\n",
       "    </tr>\n",
       "  </tbody>\n",
       "</table>\n",
       "</div>"
      ],
      "text/plain": [
       "      fixed acidity  volatile acidity  citric acid  residual sugar  chlorides  \\\n",
       "131             5.6             0.500         0.09             2.3      0.049   \n",
       "1231            7.8             0.815         0.01             2.6      0.074   \n",
       "180             8.8             0.610         0.14             2.4      0.067   \n",
       "338            12.4             0.490         0.58             3.0      0.103   \n",
       "1112            7.9             0.330         0.41             1.5      0.056   \n",
       "\n",
       "      free sulfur dioxide  total sulfur dioxide  density    pH  sulphates  \\\n",
       "131                    17                    99  0.99370  3.63       0.63   \n",
       "1231                   48                    90  0.99621  3.38       0.62   \n",
       "180                    10                    42  0.99690  3.19       0.59   \n",
       "338                    28                    99  1.00080  3.16       1.00   \n",
       "1112                    6                    35  0.99396  3.29       0.71   \n",
       "\n",
       "      alcohol  quality  \n",
       "131      13.0        5  \n",
       "1231     10.8        5  \n",
       "180       9.5        5  \n",
       "338      11.5        6  \n",
       "1112     11.0        6  "
      ]
     },
     "execution_count": 69,
     "metadata": {},
     "output_type": "execute_result"
    }
   ],
   "source": [
    "testRed.head(5)"
   ]
  },
  {
   "cell_type": "markdown",
   "metadata": {},
   "source": [
    "### 4.b) fit linear regression"
   ]
  },
  {
   "cell_type": "code",
   "execution_count": 70,
   "metadata": {
    "collapsed": false
   },
   "outputs": [],
   "source": [
    "def featurizeData(data, order=1):\n",
    "    if order == 1:\n",
    "         # add the '1' column to the data\n",
    "        data['1'] = 1\n",
    "        return data.as_matrix()\n",
    "    result = data.copy(deep=True)\n",
    "    for i in range(2,order+1):\n",
    "        temp = data.copy(deep=True)\n",
    "        temp = temp.applymap(lambda l: np.power(l,i))\n",
    "        result = result.join(temp, rsuffix=('^')+str(i))\n",
    "    result['1'] = 1\n",
    "    return result.as_matrix()\n",
    "\n",
    "def linearRegression(data, targets, order=1):\n",
    "    features = featurizeData(data, order)\n",
    "    targetVec = targets.as_matrix()\n",
    "    \n",
    "    weights = np.dot(np.linalg.inv(np.dot(np.transpose(features), features)),np.dot(np.transpose(features),targetVec))\n",
    "    return weights"
   ]
  },
  {
   "cell_type": "code",
   "execution_count": 71,
   "metadata": {
    "collapsed": false
   },
   "outputs": [],
   "source": [
    "w = linearRegression(trainRed.loc[:,:'alcohol'], trainRed.loc[:,'quality'],1)"
   ]
  },
  {
   "cell_type": "code",
   "execution_count": 77,
   "metadata": {
    "collapsed": false
   },
   "outputs": [],
   "source": [
    "def predict(data, weights, targets=[], order=1):\n",
    "    withTargets = len(targets)!= 0\n",
    "    \n",
    "    if withTargets:\n",
    "        targetVec = targets.as_matrix()\n",
    "    \n",
    "    result = []\n",
    "    features = featurizeData(data, order)\n",
    "    for ind in range(len(features)):\n",
    "        predict = np.dot(weights, features[ind,:])\n",
    "        if withTargets:\n",
    "            result.append((predict, targetVec[ind]))\n",
    "        else:\n",
    "            result.append((predict, none))\n",
    "    return result"
   ]
  },
  {
   "cell_type": "code",
   "execution_count": 78,
   "metadata": {
    "collapsed": false
   },
   "outputs": [],
   "source": [
    "predictions = predict(testRed.loc[:,:'alcohol'], w, testRed.loc[:,'quality'])"
   ]
  },
  {
   "cell_type": "markdown",
   "metadata": {},
   "source": [
    "### 4.c) make predictions"
   ]
  },
  {
   "cell_type": "code",
   "execution_count": 79,
   "metadata": {
    "collapsed": false
   },
   "outputs": [
    {
     "data": {
      "text/plain": [
       "<matplotlib.text.Text at 0x7ff2594f2ba8>"
      ]
     },
     "execution_count": 79,
     "metadata": {},
     "output_type": "execute_result"
    },
    {
     "data": {
      "image/png": "[encoded data removed]",
      "text/plain": [
       "<matplotlib.figure.Figure at 0x7ff2592fb128>"
      ]
     },
     "metadata": {},
     "output_type": "display_data"
    }
   ],
   "source": [
    "fig = plt.figure(figsize=(11,8))\n",
    "predVals = np.array(list(map(lambda l: l[0], predictions)))\n",
    "targetVals = np.array(list(map(lambda l: l[1], predictions)))\n",
    "\n",
    "plt.scatter(predVals, targetVals)\n",
    "plt.xlabel('predicted value')\n",
    "plt.ylabel('real value')\n",
    "plt.title('Figure 2: Prediction vs. real value')"
   ]
  },
  {
   "cell_type": "code",
   "execution_count": 80,
   "metadata": {
    "collapsed": false
   },
   "outputs": [
    {
     "name": "stdout",
     "output_type": "stream",
     "text": [
      "The mean squared error is 0.3962\n"
     ]
    }
   ],
   "source": [
    "def computeMeanSquaredError(predictions, targets):\n",
    "    return ((predictions - targets) **2).mean()\n",
    "\n",
    "mse = computeMeanSquaredError(predVals, targetVals)\n",
    "print('The mean squared error is %.4f' %mse)"
   ]
  },
  {
   "cell_type": "markdown",
   "metadata": {},
   "source": [
    "#### Some improvement of the result\n",
    "For now we assumed that we can fit the model with a linear regression of order 1. But maybe this is not a good model for wines and their ingredients. We could for example think about the concentration of sugar (but these thoughts can be transferred to all other ingredients as well) in the wine. Given that the feature \"sugar\" has a positive weight, this would mean: \"the more sugar, the better the wine is\". This can be true in a certain interval (for example wine that are made out of raisins that didn't have enough sun), but can be completely false in other intervals (for example wines that are very sweet). So we could assume that the ingredients have an optimal concentration (a peak) and result in a loss of quality if the concentration is far from that optimum.<br>To model this behaviour we could use a second order linear regression as the parabolas are able to model a peak and an decrease in quality around that peak."
   ]
  },
  {
   "cell_type": "code",
   "execution_count": 84,
   "metadata": {
    "collapsed": false
   },
   "outputs": [
    {
     "name": "stdout",
     "output_type": "stream",
     "text": [
      "The mean squared error is 0.3920\n"
     ]
    },
    {
     "data": {
      "image/png": "[encoded data removed]",
      "text/plain": [
       "<matplotlib.figure.Figure at 0x7ff2594ce550>"
      ]
     },
     "metadata": {},
     "output_type": "display_data"
    }
   ],
   "source": [
    "# fit linear regression and make predictions\n",
    "w_2 = linearRegression(trainRed.loc[:,:'alcohol'], trainRed.loc[:,'quality'],order=2)\n",
    "predictions_2 = predict(testRed.loc[:,:'alcohol'], w_2, testRed.loc[:,'quality'], order=2)\n",
    "\n",
    "# plot the result\n",
    "fig = plt.figure(figsize=(11,8))\n",
    "predVals_2 = np.array(list(map(lambda l: l[0], predictions_2)))\n",
    "targetVals_2 = np.array(list(map(lambda l: l[1], predictions_2)))\n",
    "\n",
    "plt.scatter(predVals_2, targetVals_2)\n",
    "plt.xlabel('predicted value')\n",
    "plt.ylabel('real value')\n",
    "plt.title('Figure 3: Prediction vs. real value with second order lin reg')\n",
    "\n",
    "# compute mse and print it\n",
    "mse_2 = computeMeanSquaredError(predVals_2, targetVals_2)\n",
    "print('The mean squared error is %.4f' %mse_2)"
   ]
  },
  {
   "cell_type": "markdown",
   "metadata": {},
   "source": [
    "#### Make mse-prediction more reiiable\n",
    "So far the mean square error was only computed on one partition of the data into training set and test set. So the mse we obtain is influenced by how the data was partitioned and is likely to be biased. To overcome this problem, we can calculate the expectation of the mse by averaging over many possible distributions:"
   ]
  },
  {
   "cell_type": "code",
   "execution_count": 90,
   "metadata": {
    "collapsed": true
   },
   "outputs": [],
   "source": [
    "def expectationOfMSE(data, order=1, plot=False, trainSize=0.7, iterations=100):\n",
    "    assert trainSize > 0 and trainingSize < 1, \"The trainSize must be between 0 and 1 (relative size)\"\n",
    "    assert order >= 1 and type(order)== int , \"The order must be greater-equal to one and an int\"\n",
    "    \n",
    "    mse = []\n",
    "    testSize = 1 - trainSize\n",
    "    \n",
    "    for i in range(iterations):\n",
    "        ############## split into training and test-data\n",
    "        indexes = np.arange(len(data))\n",
    "        np.random.shuffle(indexes)\n",
    "        \n",
    "        # split the indexes into training and test indexes\n",
    "        trainingInd = indexes[:int(trainingSize*len(indexes))]\n",
    "        testInd = indexes[int(trainingSize*len(indexes))+1:]\n",
    "        \n",
    "        # split the data accordingly to the indexes\n",
    "        trainDat = data.ix[trainingInd,:]\n",
    "        testDat = data.ix[testInd,:]\n",
    "\n",
    "        ############## make regression\n",
    "        w = linearRegression(trainDat.loc[:,:'alcohol'], trainDat.loc[:,'quality'], order)\n",
    "        predictions = predict(testDat.loc[:,:'alcohol'], w, testDat.loc[:,'quality'], order)\n",
    "        \n",
    "        predVals = np.array(list(map(lambda l: l[0], predictions)))\n",
    "        targetVals = np.array(list(map(lambda l: l[1], predictions)))\n",
    "        \n",
    "        if plot:\n",
    "            # plot the result\n",
    "            fig = plt.figure(figsize=(11,8))\n",
    "        \n",
    "            plt.scatter(predVals, targetVals)\n",
    "            plt.xlabel('predicted value')\n",
    "            plt.ylabel('real value')\n",
    "            plt.title('Prediction vs. real value')\n",
    "        mse.append(computeMeanSquaredError(predVals, targetVals))\n",
    "        \n",
    "    return np.mean(mse)"
   ]
  },
  {
   "cell_type": "code",
   "execution_count": 92,
   "metadata": {
    "collapsed": false
   },
   "outputs": [
    {
     "name": "stdout",
     "output_type": "stream",
     "text": [
      "The mse for order 1, 100 iterations and 0.70 trainSize is:\t0.423\n",
      "The mse for order 2, 100 iterations and 0.70 trainSize is:\t0.419\n",
      "The mse for order 3, 100 iterations and 0.70 trainSize is:\t2555.914\n",
      "The mse for order 4, 100 iterations and 0.70 trainSize is:\t8175.770\n"
     ]
    }
   ],
   "source": [
    "iterat = 100\n",
    "orders = list(range(1,5))\n",
    "trainSize = 0.7\n",
    "\n",
    "for order in orders:\n",
    "    mse = expectationOfMSE(redWine, order, False, trainSize, iterat)\n",
    "    print('The mse for order %d, %d iterations and %.2f trainSize is:\\t%.3f' %(order, iterat, trainSize, mse))"
   ]
  },
  {
   "cell_type": "markdown",
   "metadata": {},
   "source": [
    "### 4.d) Suggest Benchmark\n",
    "As a very easy benchmark we could suggest to use the most frequent value (in this case this will be the mean of the observed qualities) for prediction. This is comparable to a linear regression of order\n",
    "<br> Another way to measure the performance of our regression could be to use the pearson correlation coefficient. This tells us how high the correlation between our prediction and the true value is."
   ]
  },
  {
   "cell_type": "markdown",
   "metadata": {},
   "source": [
    "### 4.e) Implement Benchmark"
   ]
  },
  {
   "cell_type": "code",
   "execution_count": 14,
   "metadata": {
    "collapsed": false
   },
   "outputs": [
    {
     "data": {
      "text/plain": [
       "1.0167014613778707"
      ]
     },
     "execution_count": 14,
     "metadata": {},
     "output_type": "execute_result"
    }
   ],
   "source": [
    "def benchmarkMFV(targets):\n",
    "    targetVec = targets.as_matrix()\n",
    "    predictValue = np.mean(targetVec)\n",
    "    \n",
    "    predictions = np.empty_like(targetVec)\n",
    "    predictions.fill(predictValue)\n",
    "    \n",
    "    return computeMeanSquaredError(predictions, targetVec)\n",
    "\n",
    "benchmarkMFV(testRed.loc[:, 'quality'])"
   ]
  },
  {
   "cell_type": "code",
   "execution_count": 15,
   "metadata": {
    "collapsed": false
   },
   "outputs": [
    {
     "data": {
      "text/plain": [
       "0.57722654363535975"
      ]
     },
     "execution_count": 15,
     "metadata": {},
     "output_type": "execute_result"
    }
   ],
   "source": [
    "def calculatePearsonCoefficient(predictions, targets):\n",
    "    assert (len(predictions) == len(targets)), \"The dimensions of predictions and targets must fit!\"\n",
    "    \n",
    "    predMean = np.mean(predictions)\n",
    "    tarMean = np.mean(targets)\n",
    "    \n",
    "    return np.mean((predictions - predMean)*(targets - tarMean)) / (np.std(targets) * np.std(predictions))\n",
    "\n",
    "calculatePearsonCoefficient(predVals, targetVals)\n",
    "\n"
   ]
  },
  {
   "cell_type": "markdown",
   "metadata": {},
   "source": [
    "### 4.f) Discussion of Benchmarks\n",
    "Both benchmarks show, that our linear regression is on a good way, but it's still not perfect. When compare the mean squared error (MSE) for our predictions with the MSE we achieved by just assigning the most common quality value, we can observe that our MSE is significantly smaller. Still, the MSE is not perfect.\n",
    "<br> The same goes for the Pearson correlation coefficien that is computed as <br> $\\begin{equation} corr(X,Y) = \\dfrac{cov(X,Y)}{\\sigma_X \\cdot \\sigma_Y} \\end{equation}$ <br>\n",
    "Our result of a correlation coefficient of .63 shows that the regression model is able to create a correlation between the predicted quality and the real quality. This correlation is moderate but way better than guessing."
   ]
  },
  {
   "cell_type": "markdown",
   "metadata": {},
   "source": [
    "## Excercise 5 (Regularized Linear Regression)\n",
    "### 5.a) Implementation of regularized Linear Regression aka Ridge Regression"
   ]
  },
  {
   "cell_type": "code",
   "execution_count": 16,
   "metadata": {
    "collapsed": true
   },
   "outputs": [],
   "source": [
    "def ridgeRegression(data, targets, lambda_, order=1):\n",
    "    features = featurizeData(data, order)\n",
    "    targetVec = targets.as_matrix()\n",
    "    \n",
    "    weights = np.dot(np.linalg.inv(np.dot(np.transpose(features), features) + (lambda_ * np.identity(len(features[0])) )), \\\n",
    "                     np.dot(np.transpose(features),targetVec))\n",
    "    return weights"
   ]
  },
  {
   "cell_type": "code",
   "execution_count": 17,
   "metadata": {
    "collapsed": true
   },
   "outputs": [],
   "source": [
    "wRidge = ridgeRegression(trainRed.loc[:,:'alcohol'], trainRed.loc[:,'quality'],1)\n",
    "predictionsRidge = predict(testRed.loc[:,:'alcohol'], wRidge, testRed.loc[:,'quality'])"
   ]
  },
  {
   "cell_type": "code",
   "execution_count": 18,
   "metadata": {
    "collapsed": false
   },
   "outputs": [],
   "source": [
    "def mseFromPredictions(predictions):\n",
    "        predVals = np.array(list(map(lambda l: l[0], predictions)))\n",
    "        targetVals = np.array(list(map(lambda l: l[1], predictions)))\n",
    "        return computeMeanSquaredError(predVals, targetVals)\n",
    "\n",
    "def findGoodLambda(trainData, trainTargets, testData, testTargets, lambdaMin, lambdaMax, stepsize):\n",
    "    results = []\n",
    "    \n",
    "    for value in np.arange(lambdaMin, lambdaMax, stepsize):\n",
    "        weights = ridgeRegression(trainData, trainTargets, value)\n",
    "        predictions = predict(testData, weights, testTargets)\n",
    "        results.append((value, mseFromPredictions(predictions)))\n",
    "        \n",
    "    figureWidth = 15    \n",
    "    fig = plt.figure(figsize=(figureWidth,8))\n",
    "    indexes = list(map(lambda l: l[0], results))\n",
    "    values = list(map(lambda l: l[1], results))\n",
    "    \n",
    "    minVal = min(values)\n",
    "    maxVal = max(values)\n",
    "    \n",
    "    width = 0.9\n",
    "\n",
    "    plt.bar(indexes, values, width,\n",
    "                    color='red')\n",
    "    plt.ylabel('MSE')\n",
    "    plt.xlabel('lambda value')\n",
    "    plt.title('Figure 3: MSE vs lambda')\n",
    "    xTickMarks = indexes\n",
    "    xtickNames = plt.xticks(xTickMarks)\n",
    "\n",
    "    plt.xlim(lambdaMin, lambdaMax)\n",
    "    plt.ylim(minVal - 0.5 * (maxVal-minVal), maxVal + 0.5 * (maxVal-minVal))\n",
    "    plt.show()\n",
    "    \n",
    "    return results"
   ]
  },
  {
   "cell_type": "code",
   "execution_count": 19,
   "metadata": {
    "collapsed": false
   },
   "outputs": [
    {
     "data": {
      "image/png": "[encoded data removed]",
      "text/plain": [
       "<matplotlib.figure.Figure at 0x7f99e54a7208>"
      ]
     },
     "metadata": {},
     "output_type": "display_data"
    }
   ],
   "source": [
    "res = findGoodLambda(trainRed.loc[:,:'alcohol'], trainRed.loc[:,'quality'], testRed.loc[:,:'alcohol'],\\\n",
    "               testRed.loc[:,'quality'], 1, 10, 1)"
   ]
  },
  {
   "cell_type": "markdown",
   "metadata": {},
   "source": [
    "### 5.b) Determining Parameter for Lambda\n",
    "This is not a good way to determine the lambda-parameter because we optimize the parameter only with regard to one particuliar piece of the dataset. So we run into the problem of overfitting. That means, that it is likely, that the best paramter for this piece of data is not equal to the best parameter for the whole dataset. We might find, that this best parameter for this piece of data fails to generalize when it comes to predicting new data. Also we lose a lot of information by tuning the paramter only based on a small amount of data (in this case 30% of the total dataset) instead of tuning it on the whole dataset."
   ]
  },
  {
   "cell_type": "markdown",
   "metadata": {
    "collapsed": true
   },
   "source": [
    "### 5.c) k-fold crossvalidation   "
   ]
  },
  {
   "cell_type": "code",
   "execution_count": 20,
   "metadata": {
    "collapsed": false
   },
   "outputs": [],
   "source": [
    "def kFoldCV(data, targets, k, lambda_):\n",
    "    \n",
    "    # create a list of indexes as long as data\n",
    "    indexes = np.arange(len(data))\n",
    "    \n",
    "    # squeeze indexes to interval [0,...,k-1]\n",
    "    indexes = [ ind % k for ind in indexes]\n",
    "    \n",
    "    # shuffle indexes and add them as column to dataframe\n",
    "    np.random.shuffle(indexes)\n",
    "    data['cvInd'] = indexes\n",
    "    \n",
    "    mse = []\n",
    "    \n",
    "    for i in range(k):\n",
    "        traindata = data[data.cvInd != i].loc[:,:'alcohol']\n",
    "        trainlabels = targets[data.cvInd != i]\n",
    "        \n",
    "        testdata = data[data.cvInd == i].loc[:,:'alcohol']\n",
    "        testlabels = targets[data.cvInd == i]\n",
    "        \n",
    "        weights = ridgeRegression(traindata, trainlabels, lambda_)\n",
    "\n",
    "        currentMSE = mseFromPredictions(predict(testdata, weights, testlabels))\n",
    "   \n",
    "        mse.append(currentMSE)\n",
    "    \n",
    "    data = data.drop('cvInd', 1)\n",
    "    return np.mean(mse)"
   ]
  },
  {
   "cell_type": "code",
   "execution_count": 21,
   "metadata": {
    "collapsed": false
   },
   "outputs": [],
   "source": [
    "def findGoodLambdaWithCV(data, k, lambdaMin, lambdaMax, stepsize):\n",
    "    \n",
    "    results = []\n",
    "    for lambda_ in np.arange(lambdaMin, lambdaMax, stepsize):\n",
    "        results.append((lambda_, kFoldCV(redWine.loc[:,:'alcohol'], redWine.loc[:,'quality'], k, lambda_)) )\n",
    "   \n",
    "    figureWidth = 15    \n",
    "    fig = plt.figure(figsize=(figureWidth,8))\n",
    "    indexes = list(map(lambda l: l[0], results))\n",
    "    values = list(map(lambda l: l[1], results))\n",
    "    \n",
    "    minVal = min(values)\n",
    "    maxVal = max(values)\n",
    "    \n",
    "    width = 0.9 * stepsize\n",
    "\n",
    "    plt.bar(indexes, values, width,\n",
    "                    color='red', align='center')\n",
    "    plt.ylabel('MSE')\n",
    "    plt.xlabel('lambda value')\n",
    "    plt.title('Figure 4: MSE vs lambda')\n",
    "    xTickMarks = indexes\n",
    "    xtickNames = plt.xticks(xTickMarks)\n",
    "\n",
    "    plt.xlim(lambdaMin-width, lambdaMax)\n",
    "    plt.ylim(minVal - 0.5 * (maxVal-minVal), maxVal + 0.5 * (maxVal-minVal))\n",
    "    plt.show()\n",
    "    \n",
    "    return results"
   ]
  },
  {
   "cell_type": "code",
   "execution_count": 22,
   "metadata": {
    "collapsed": false
   },
   "outputs": [
    {
     "data": {
      "image/png": "[encoded data removed]",
      "text/plain": [
       "<matplotlib.figure.Figure at 0x7f99e548f160>"
      ]
     },
     "metadata": {},
     "output_type": "display_data"
    }
   ],
   "source": [
    "res = findGoodLambdaWithCV(redWine, 10, 0, .5, .05)"
   ]
  },
  {
   "cell_type": "code",
   "execution_count": 23,
   "metadata": {
    "collapsed": false
   },
   "outputs": [
    {
     "name": "stdout",
     "output_type": "stream",
     "text": [
      "The minimum mse value was mse = 0.422 at lambda = 0.10 \n"
     ]
    }
   ],
   "source": [
    "def extractBestValue(results):\n",
    "    minVal = min(results, key=lambda l: l[1])\n",
    "    print(\"The minimum mse value was mse = %.3f at lambda = %.2f \" %(minVal[1], minVal[0]))\n",
    "    return\n",
    "\n",
    "extractBestValue(res)\n",
    "\n",
    "# TODO: What does he mean by 'Quote the optimal value, and the performance at this value on the test set'"
   ]
  },
  {
   "cell_type": "markdown",
   "metadata": {},
   "source": [
    "### 5.d) Comparison of Performance\n",
    "To answer this question we must first talk about the mse-value for the standard linear regression. When calculated in excercise 4.c), the mse was approximately 0.39. However this value was only computed on the test-dataset without the use of any crossvalidation technique. However, when we take a look at figure 4, we see another image. Here the value for lambda = 0 corresponds to a standard linear regression and this value ($\\approx 0.426$) is slightly higher than the value computed before. So the first thing to discuss is, why the mse for the standard linear regression is higher, when computed via 10-crossvalidation:<br>\n",
    "When we use only one part of the dataset for testing the performance of the regression (instead of doing the crossvalidation), we run into a problem: it is possible, that we selected a part of the dataset that behaves extremly (either very well or very bad). This is actually one of the reasons why we use crossvalidation, to average over the whole dataset. So the value of the crossvalidation is much more reliable than the value computed only on the testset and we should furthermore use the values computed with crossvalidation to discuss differences in performance.<br> <br>\n",
    "So if we take a second look at figure 4. Here we can see the mse for the standard linear regression at $\\lambda = 0$. Comparing this value to the minimum mse at $\\lambda = 0.1$, we see that with the optimal $\\lambda$-value, the sme is slightly better than in the standard case. The small decrease in the sme can be explained as a result of less overfitting. The regularization increases the regressions ability to generalize and therefore results in better predictions."
   ]
  },
  {
   "cell_type": "markdown",
   "metadata": {
    "collapsed": true
   },
   "source": [
    "## Excercise 6 (Classification)\n",
    "### 6.a) LImitations of Regression\n",
    "The limitations of the regression are, that we learn based on discrete target-values but our model assumes continuous targets. So we assume some precision in the learning step, that is not true. Assume for example, that a wine's quality is in the middle between 5 and 6, let's say at 5.5, but it got assigned wine quality 6. Now our model assumes that the wine is a straight 6 six and would give us the same error if we assigned the wine a 5.5 or a 6.5. But we can clearly see, that this is not true because in the optimal case, the assignment of 5.5 should give an error of 0, while the assignment of 6.5 should give an error of $0.5^2$.<br> So the model assumes that the training target values are more precise than they are. "
   ]
  },
  {
   "cell_type": "markdown",
   "metadata": {},
   "source": [
    "### 6.b) KNN vs. Naive Bayes\n",
    "I choose to use the naive bayes approach in this part of the excercise. The naive bayes has the big advantage that it is a probabilistic classifier, which means that additionally to the predicted classes it will give us information about how sure it is with its classification. Also if the distribution of the features is well assumed, the different variances of the features are taken into account whileas for the KNN-approach the use of the Mahalanobis-distance or the standardization of the features are used to cope with different magnitudes of variances of the features. <br>\n",
    "The disadvantage of the naive bayes, compared to the KNN-approach is, that it is much more expensive in terms of computational cost and that it is harder to implement. Also the performance of the naive bayes depends on parameters like the assumed prior class-probability and the probabilty distribution of samples given their class. This parameters are way harder to optimize than only the number k of the KNN which can be optimized easily using k-fold cross validation. Also the naive bayes approach assumes, that the features (or the dimensions of the feature vector) are independent."
   ]
  },
  {
   "cell_type": "markdown",
   "metadata": {},
   "source": [
    "### 6.c) Preprocessing of the data\n",
    "In order of preprocessing the data, it will be helpful to divide the data into the respective classes and to compute mean and covariance matrix for the features of each class. Also the histogram of excercise 2 can be helpful to estimate the prior class-densities.\n",
    "<br><br>\n",
    "Nevertheless it won't be helpful to standardize the data as it is for many other machine learning algorithms, as the algorithm deals with the different distributions by calculating their mean and their covariances."
   ]
  },
  {
   "cell_type": "markdown",
   "metadata": {},
   "source": [
    "### 6.d) Implementation and Optimization of Parameters\n",
    "The parameters for naive bayes are the prior class probabilities, the assumed distribution (in our case a gaussian distribution) and the parameters of the distribution for all classes.<br>\n",
    "The prior class probabilities are computed for each class $c$ with $N_c$ samples as $\\pi_c = \\frac{N_c}{\\sum\\limits_{e \\in C}N_e}$. The mean and the variance of each class can be directly computed from the samples corresponding to the class. So there is not much need for optimization of any parameters."
   ]
  },
  {
   "cell_type": "code",
   "execution_count": 16,
   "metadata": {
    "collapsed": false
   },
   "outputs": [],
   "source": [
    "# define a struct 'Class' with the variables means, var (variances) and num (number of elements)\n",
    "Class = namedtuple('Class', 'means var num')\n",
    "\n",
    "def preprocessing(data):\n",
    "    \"Preprocessing of data for later use in naive Bayes classifier \\\n",
    "    \\nassumes that last column of data is the target\"\n",
    "    \n",
    "    #the keys of the data as list to be able to access the last key (used for groupby)\n",
    "    keys = list(data.keys())\n",
    "    \n",
    "    # defines the preprocessing that has to be done on each group\n",
    "    def preprocessGroup(group):\n",
    "        grKeys = list(group.keys())\n",
    "        num = len(group.loc[:,grKeys[0]]) # the number of elements in this group\n",
    "        means = [np.mean(group.loc[:,key]) for key in grKeys]  #list(group.mean(axis=0)) #the means of all the features\n",
    "        var = [np.var(group.loc[:,key]) for key in grKeys]\n",
    "        #covMat = group.cov() #the covariance matrix\n",
    "        #var = [covMat.loc[key, key] for key in covMat.keys()] #extracts the variances of the covarianceMatrix\n",
    "        return Class(means, var, num) # return a namedtuple 'class' with the extracted values\n",
    "    \n",
    "    #group the data by the quality and extract the keys as targets\n",
    "    groupedByTarget = data.groupby(keys[-1])\n",
    "    targets = [key for key in groupedByTarget.groups]\n",
    "    \n",
    "    #run the preprocessGroup-function on all groups of the dataset and create list of results\n",
    "    classes = [preprocessGroup(pd.DataFrame(groupedByTarget.get_group(target)).drop([keys[-1]], 1))\\\n",
    "               for target in targets] #first key is index and last key is target\n",
    "    return (classes, targets)"
   ]
  },
  {
   "cell_type": "code",
   "execution_count": 17,
   "metadata": {
    "collapsed": false
   },
   "outputs": [
    {
     "name": "stdout",
     "output_type": "stream",
     "text": [
      "['fixed acidity', 'volatile acidity', 'citric acid', 'residual sugar', 'chlorides', 'free sulfur dioxide', 'total sulfur dioxide', 'density', 'pH', 'sulphates', 'alcohol', 'quality']\n"
     ]
    }
   ],
   "source": [
    "data = redWine\n",
    "keys = list(data.keys())\n",
    "print(keys)"
   ]
  },
  {
   "cell_type": "code",
   "execution_count": 18,
   "metadata": {
    "collapsed": false
   },
   "outputs": [
    {
     "name": "stdout",
     "output_type": "stream",
     "text": [
      "(3, 0.57863400652336394)\n"
     ]
    }
   ],
   "source": [
    "def evaluateGaussian(x, loc, var):\n",
    "    assert var > 0, \"The scale must be > 0\"\n",
    "    \n",
    "    locf = float(loc)\n",
    "    scalef = np.sqrt(var)\n",
    "    xf = float(x)\n",
    "    exponent = -(np.square((xf-locf)/scalef))\n",
    "    return (1.0/(np.sqrt(2 * np.pi*scalef))) * np.exp(exponent)\n",
    "    \n",
    "\n",
    "class naiveBayesClassifier():\n",
    "    #the constructor for the class (calls the preprocessing)\n",
    "    def __init__(self, data):\n",
    "        (classes, targets) = preprocessing(redWine)\n",
    "        self.classes = classes\n",
    "        self.targets = targets\n",
    "        \n",
    "    #function to calculate the density of the multivariate gaussian for x and a given class\n",
    "    #under the assumption of independence between dimensions\n",
    "    def evaluateGaussians(self, x, classLabel):\n",
    "        assert(classLabel in self.targets ), \"Cannot evaluate this class because it does not exist\"\n",
    "        assert(len(x) == len(self.classes[0].means)), \"Length of input vector must fit dimension of model \\\n",
    "        expected:%d, given:%d\" %(len(self.classes[0].means) , len(x))\n",
    "        \n",
    "        position = self.targets.index(classLabel)\n",
    "        mean = self.classes[position].means\n",
    "        var = self.classes[position].var\n",
    "        gaussianDensity = 1.0\n",
    "        \n",
    "        #calculates the density iteratively over the dimensions\n",
    "        for i in range(len(var)):\n",
    "            dens = evaluateGaussian(x[i], mean[i], var[i]) #st.norm.pdf(x[i], loc=mean[i], scale=var[i])\n",
    "            #print(\"Gaussian at x=%f, mu=%f, sigma=%f: %f\" %(x[i], mean[i], var[i], dens))\n",
    "            gaussianDensity = gaussianDensity * dens\n",
    "            #print(gaussianDensity)\n",
    "        return gaussianDensity\n",
    "    \n",
    "    #predicts a class and returns tuple consisting of the class and the corresponding certainty\n",
    "    def predict(self, x):\n",
    "        def softMax(self, densities, index):\n",
    "            #print(densities)\n",
    "            return densities[index] / sum(densities)\n",
    "        \n",
    "        assert(len(x) == len(self.classes[0].means)), \"Length of input vector must fit dimension of model \\\n",
    "        expected:%d, given:%d\" %(len(self.classes[0].means) , len(x))\n",
    "        \n",
    "        densities = [self.evaluateGaussians(x, cL) for cL in self.targets]\n",
    "        sumOfSamples = sum([cl.num for cl in self.classes])\n",
    "        probabilities = [densities[i] * ( self.classes[i].num/sumOfSamples ) for i in range(len(densities))]\n",
    "        maxInd = densities.index(max(densities))\n",
    "        return (self.targets[maxInd], softMax(self, probabilities, maxInd))\n",
    "    \n",
    "    \n",
    "classifier = naiveBayesClassifier(redWine)#\n",
    "print(classifier.predict(classifier.classes[0].means))"
   ]
  },
  {
   "cell_type": "code",
   "execution_count": 19,
   "metadata": {
    "collapsed": false
   },
   "outputs": [],
   "source": [
    "def featurize(x):\n",
    "    feature = x[1][:len(x[1])-1]\n",
    "    target = x[len(x)-1][len(x[1])-1]\n",
    "    return (feature, target)\n",
    "\n",
    "def kFoldCVNaiveBayes(inpData, k):\n",
    "    data = inpData.copy()\n",
    "    keys = list(inpData.keys())\n",
    "    dim = inpData.loc[:, keys[-1]].nunique()\n",
    "    #print(dim)\n",
    "    diffusionMatrix = np.zeros((dim, dim))\n",
    "    # create a list of indexes as long as data\n",
    "    indexes = np.arange(len(data))\n",
    "    \n",
    "    # squeeze indexes to interval [0,...,k-1]\n",
    "    indexes = [ ind % k for ind in indexes]\n",
    "    \n",
    "    # shuffle indexes and add them as column to dataframe\n",
    "    np.random.shuffle(indexes)\n",
    "    data['cvInd'] = indexes\n",
    "    \n",
    "    classicficationAccuracy = []\n",
    "    \n",
    "    for i in range(k):\n",
    "        traindata = data.copy()\n",
    "        traindata = traindata[traindata.cvInd != i]\n",
    "        traindata = traindata.drop('cvInd', 1)\n",
    "        \n",
    "        testdata = data[data.cvInd == i]\n",
    "        testdata = testdata.drop('cvInd', 1)\n",
    "        classifier = naiveBayesClassifier(traindata)\n",
    "        \n",
    "        \n",
    "        correctClassified = 0\n",
    "        for elem in testdata.iterrows():\n",
    "            (feature, target) = featurize(elem)\n",
    "            prediction = classifier.predict(feature)\n",
    "            #print('true: %f, predicted:' % target, prediction)\n",
    "            targetInd = classifier.targets.index(target)\n",
    "            predictedInd = classifier.targets.index(prediction[0])\n",
    "            diffusionMatrix[targetInd, predictedInd] = diffusionMatrix[targetInd, predictedInd] + 1\n",
    "            if prediction[0] == target:\n",
    "                #print('yes')\n",
    "                correctClassified = correctClassified + 1\n",
    "            \n",
    "        del classifier\n",
    "        classicficationAccuracy.append(float(correctClassified)/len(list(testdata.iterrows())))\n",
    "    \n",
    "    data = data.drop('cvInd', 1)\n",
    "    print(diffusionMatrix)\n",
    "    return np.mean(classicficationAccuracy)\n",
    "\n",
    "def LOOCVNaiveBayesian(inpData):\n",
    "    print('Started LOOCV with %d length of dataset' %len(inpData))\n",
    "    return kFoldCVNaiveBayes(inpData, len(inpData))"
   ]
  },
  {
   "cell_type": "markdown",
   "metadata": {},
   "source": [
    "### 6.e) Confusion matrix\n",
    "Please find below the confusion matrix for the 10-fold cross validation and the LOOCV."
   ]
  },
  {
   "cell_type": "code",
   "execution_count": 20,
   "metadata": {
    "collapsed": false
   },
   "outputs": [
    {
     "name": "stdout",
     "output_type": "stream",
     "text": [
      "Confusion matrix for 10-fold CV:\n",
      "[[   4.    4.    1.    1.    0.    0.]\n",
      " [  10.   28.    7.    5.    2.    1.]\n",
      " [  48.  184.  301.   87.   57.    4.]\n",
      " [  22.  156.  104.  147.  154.   55.]\n",
      " [   1.   25.    7.   18.   99.   49.]\n",
      " [   0.    2.    0.    0.    6.   10.]]\n",
      "#################################\n",
      "Confusion matrix for LOOCV\n",
      "Started LOOCV with 1599 length of dataset\n",
      "[[   4.    4.    1.    1.    0.    0.]\n",
      " [  10.   28.    7.    5.    2.    1.]\n",
      " [  48.  184.  301.   87.   57.    4.]\n",
      " [  22.  156.  104.  147.  154.   55.]\n",
      " [   1.   25.    7.   18.   99.   49.]\n",
      " [   0.    2.    0.    0.    6.   10.]]\n"
     ]
    }
   ],
   "source": [
    "print('Confusion matrix for 10-fold CV:')\n",
    "cA_10 = kFoldCVNaiveBayes(redWine, 10)\n",
    "print('#################################\\nConfusion matrix for LOOCV')\n",
    "cA_LOOCV = LOOCVNaiveBayesian(redWine)"
   ]
  },
  {
   "cell_type": "code",
   "execution_count": 25,
   "metadata": {
    "collapsed": false
   },
   "outputs": [
    {
     "name": "stdout",
     "output_type": "stream",
     "text": [
      "Classification accuracy:\n",
      "10-fold CV:\t0.3683\n",
      "LOOCV:\t\t0.3684\n"
     ]
    }
   ],
   "source": [
    "print('Classification accuracy:\\n10-fold CV:\\t%.4f\\nLOOCV:\\t\\t%.4f' %(cA_10, cA_LOOCV))"
   ]
  },
  {
   "cell_type": "markdown",
   "metadata": {},
   "source": [
    "### 6.f) Discussion of performance\n",
    "The classifier reached a classification accuracy of approximately 37%. Given that we had to classify 6 different classes, this is better than the chance to guess the right class,s which would be $\\frac{1}{6} \\approx 16.66 \\%$.<br>But still we have to aknowledge that this accuracy is far from optimal. A possible way to increase the accuracy would be to use a Bayes classifier instead of a naive Bayes classifier (this would mean taking the covariance between features into account). Another way to increase the accuracy could be to use other distributions to model the probability $p(x| c, D)$, where $x$ is a sample, $c$ is the class and $D$ is the data."
   ]
  }
 ],
 "metadata": {
  "kernelspec": {
   "display_name": "Python 3",
   "language": "python",
   "name": "python3"
  },
  "language_info": {
   "codemirror_mode": {
    "name": "ipython",
    "version": 3
   },
   "file_extension": ".py",
   "mimetype": "text/x-python",
   "name": "python",
   "nbconvert_exporter": "python",
   "pygments_lexer": "ipython3",
   "version": "3.4.4"
  }
 },
 "nbformat": 4,
 "nbformat_minor": 0
}
